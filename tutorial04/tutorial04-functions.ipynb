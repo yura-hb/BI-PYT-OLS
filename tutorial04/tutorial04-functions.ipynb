{
 "cells": [
  {
   "cell_type": "markdown",
   "metadata": {},
   "source": [
    "# Argumenty a funkce"
   ]
  },
  {
   "cell_type": "markdown",
   "metadata": {},
   "source": [
    "### 1. Napište funkci, která připojí všechna kladná čísla z jednoho seznamu na konec druhého předaného seznamu a vrátí upravený seznam.\n",
    "\n",
    "Operaci provádějte _inplace_, tj. upravujte druhý předaný seznam.\n",
    "\n",
    "Druhý seznam bude **volitelný parametr**, který bude mít jako výchozí hodnotu *prázdný seznam* (pokud není zadán).\n",
    "\n",
    "__Hint__: Pozor na výchozí argumenty, které jsou _mutable_."
   ]
  },
  {
   "cell_type": "code",
   "execution_count": 2,
   "metadata": {
    "tags": [
     "solution"
    ]
   },
   "outputs": [],
   "source": [
    "# TODO: Implement your solution.\n",
    "def append_positive_inplace(a, b=[]):\n",
    "    c = [item for item in a if item > 0]\n",
    "    c += [item for item in b if item > 0]\n",
    "    return c"
   ]
  },
  {
   "cell_type": "code",
   "execution_count": 5,
   "metadata": {},
   "outputs": [
    {
     "name": "stdout",
     "output_type": "stream",
     "text": [
      "[1, 2]\n",
      "[1, 5, 10, 20]\n",
      "[1, 5, 20, 20]\n",
      "[2, 4]\n"
     ]
    }
   ],
   "source": [
    "print(append_positive_inplace([-1, 1, 2, -3])) # [1, 2]\n",
    "print(append_positive_inplace([1, 5, -5], [10, 20])) # [10, 20, 1, 5]\n",
    "print(append_positive_inplace([1, 5, -5], [20, 20])) # [10, 20, 1, 5]\n",
    "print(append_positive_inplace([-2, 2, 4])) # [2, 4]\n",
    "\n",
    "\n",
    "\n"
   ]
  },
  {
   "cell_type": "markdown",
   "metadata": {},
   "source": [
    "### 2. Napište funkci, která sčítá čísla na stejných pozicích v předaných seznamech.\n",
    "\n",
    "Funkce bude příjmat jako argumenty libovolný počet číselných seznamů a vracet seznam součtů. Pokud mají seznamy různou délku, doplňte všechny kratší seznamy nulami.\n",
    "\n",
    "**Hint**: `zip()`"
   ]
  },
  {
   "cell_type": "code",
   "execution_count": 26,
   "metadata": {
    "tags": [
     "solution"
    ]
   },
   "outputs": [],
   "source": [
    "# TODO: Implement your solution.\n",
    "def sum_iterables(*args):\n",
    "    max_len = max([len(item) for item in args])\n",
    "    padded = [item + [0] * (max_len - len(item)) for item in args]\n",
    "    return [sum(item) for item in zip(*padded)]"
   ]
  },
  {
   "cell_type": "code",
   "execution_count": 27,
   "metadata": {
    "scrolled": true
   },
   "outputs": [
    {
     "name": "stdout",
     "output_type": "stream",
     "text": [
      "[5, 7, 9]\n",
      "[6, 8, 10]\n",
      "[11, 7, 3]\n"
     ]
    }
   ],
   "source": [
    "print(sum_iterables([1, 2, 3], [4, 5, 6])) # [5, 7, 9]\n",
    "print(sum_iterables([1, 2, 3], [4, 5, 6], [1, 1, 1])) # [6, 8, 10]\n",
    "print(sum_iterables([1, 2, 3], [10], [0, 5], [])) # [11, 7, 3]"
   ]
  },
  {
   "cell_type": "markdown",
   "metadata": {},
   "source": [
    "### 3. Zobecněte příklad 2. aby bylo možno operaci nad prvky seznamu předat parametrem jako funkci\n",
    "\n",
    "Zároveň zaveďte volitelný parametr pro _padding_, kterým se budou doplňovat kratší seznamy.\n",
    "\n",
    "**Hint**: Většina kódu by měla zůstat stejná. Pouze parametrizujte existující funkci."
   ]
  },
  {
   "cell_type": "code",
   "execution_count": 32,
   "metadata": {
    "tags": [
     "solution"
    ]
   },
   "outputs": [],
   "source": [
    "# TODO: Implement your solution.\n",
    "def merge_iterables(*args, op=sum, padding = [0]):\n",
    "    max_len = max([len(item) for item in args])\n",
    "    padded = [item + padding * (max_len - len(item)) for item in args]\n",
    "    return [op(item) for item in zip(*padded)]"
   ]
  },
  {
   "cell_type": "code",
   "execution_count": 33,
   "metadata": {},
   "outputs": [
    {
     "name": "stdout",
     "output_type": "stream",
     "text": [
      "[6, 8, 10]\n",
      "[11, 7, 3]\n",
      "['Foo', 'Bar', 'Baz', 'Xo_']\n"
     ]
    }
   ],
   "source": [
    "print(merge_iterables([1, 2, 3], [4, 5, 6], [1, 1, 1], op=sum)) # [6, 8, 10])\n",
    "print(merge_iterables([1, 2, 3], [10], [0, 5], [], op=sum, padding=[0])) # [11, 7, 3]\n",
    "print(merge_iterables(\"FBBX\", \"oaao\", \"orz\", op=lambda x: ''.join(x), padding=\"_\")) # ['Foo', 'Bar', 'Baz', 'Xo_']"
   ]
  },
  {
   "cell_type": "markdown",
   "metadata": {},
   "source": [
    "### 4. Napište funkci, která vrací složení funkcí.\n",
    "\n",
    "Funkce bude brát libovolný počet funkcí jako argumenty a bude vracet funkci, která bude jejich složením v pořadí, ve kterém jsou uvedeny.\n",
    "\n",
    "Příklad: `compose(f, g, h) -> h(g(f(x)))`"
   ]
  },
  {
   "cell_type": "code",
   "execution_count": 36,
   "metadata": {
    "tags": [
     "solution"
    ]
   },
   "outputs": [],
   "source": [
    "# TODO: Implement your solution.\n",
    "\n",
    "def compose(*fn):\n",
    "    def composition(x):\n",
    "        for func in fn:\n",
    "            x = func(x)\n",
    "        return x\n",
    "    return composition\n"
   ]
  },
  {
   "cell_type": "code",
   "execution_count": 37,
   "metadata": {},
   "outputs": [
    {
     "name": "stdout",
     "output_type": "stream",
     "text": [
      "0.0\n",
      "1.4142135623730951\n",
      "3.4641016151377544\n"
     ]
    }
   ],
   "source": [
    "import math\n",
    "f = compose(lambda x: x**2, lambda x: x//2, math.sqrt)\n",
    "print(f(1))\n",
    "print(f(2))\n",
    "print(f(5))"
   ]
  },
  {
   "cell_type": "markdown",
   "metadata": {},
   "source": [
    "### 5. Napište funkci, která bude provádět (sekvenční) map-reduce nad seznamem.\n",
    "\n",
    "Funkce dostane na vstupu seznam, mapovací funkci a redukční funkci.\n",
    "\n",
    "Mapovací funkce se aplikuje na všechny prvky seznamu a její výsledky se poté ve dvojicích předávájí redukční funkci, dokud nezbyde pouze jedna hodnota - výsledek redukce.\n",
    "\n",
    "Argument pro mapovací funkci bude mít jako výchozí hodnotu identitu (tj. vrací vstup).\n",
    "\n",
    "Vynuťte, aby argumenty pro mapovací a redukční funkci bylo nutno zadat přes pojmenované argumenty (tj. aby je nešlo předat přes poziční argument)."
   ]
  },
  {
   "cell_type": "code",
   "execution_count": 45,
   "metadata": {
    "tags": [
     "solution"
    ]
   },
   "outputs": [],
   "source": [
    "# TODO: Implement your solution.\n",
    "def list_map_reduce(l: list, map_fn = None, reduce_fn=None):\n",
    "    if (map_fn is not None):\n",
    "        l = [map_fn(item) for item in l]\n",
    "    \n",
    "    while (len(l) != 1):\n",
    "        l = [reduce_fn(l[0], l[1])] + l[2:]\n",
    "    return l\n",
    "    "
   ]
  },
  {
   "cell_type": "code",
   "execution_count": 46,
   "metadata": {},
   "outputs": [
    {
     "name": "stdout",
     "output_type": "stream",
     "text": [
      "[6]\n",
      "[14]\n",
      "[5]\n",
      "['ARE  YOU  KIDDING  ME  ?!']\n"
     ]
    }
   ],
   "source": [
    "# součet pole - 6\n",
    "print(list_map_reduce([1, 2, 3], reduce_fn=lambda x, y: x + y))\n",
    "\n",
    "# suma čtverců - 14\n",
    "print(list_map_reduce([1, 2, 3], map_fn=lambda x: x**2, reduce_fn=lambda x, y: x + y))\n",
    "\n",
    "# délka nejdelšího slova v seznamu - 5\n",
    "print(list_map_reduce([\"Hello\", \"yes\", \"this\", \"is\", \"dog\"], map_fn=len, reduce_fn=lambda x, y: max([x, y])))\n",
    "\n",
    "# transformace na kapitálky a spojení seznamu slov - ARE YOU KIDDING ME ?!!\n",
    "print(list_map_reduce([\"Are\", \"you\", \"kidding\", \"me\", \"?!\"], map_fn=lambda x: x.upper(), reduce_fn=lambda x, y: '  '.join([x, y])))"
   ]
  },
  {
   "cell_type": "markdown",
   "metadata": {},
   "source": [
    "### 6. Napište funkci, která umožní zafixovat argumenty libovolné předané funkce\n",
    "\n",
    "Funkce příjmá funkci pro obalení a libovolné další poziční a pojmenované argumenty a vrací funkci, která se chová stejně jako předaná funkce s výchozí hodnotou pro předané argumenty.\n",
    "\n",
    "Zafixované funkci je možné předat libovolné další argumenty při jejím volání. Poziční argumenty se budou spojovat za sebe (první jdou argumenty předané obalené funkci a poté zafixované) a pojmenované argumenty se přepisují (prioritu má argument při volání obalené funkce).\n",
    "\n",
    "_Zkuste ve vaší funkci využít lambda funkci._\n",
    "\n",
    "**Hint**: Budete potřebovat spojení dvou seznamů a slovníků."
   ]
  },
  {
   "cell_type": "code",
   "execution_count": 51,
   "metadata": {
    "tags": [
     "solution"
    ]
   },
   "outputs": [],
   "source": [
    "def wrap(fn, *args, **kwargs):\n",
    "    return lambda *args2, **kwargs2: fn(*(args2+args), **{**kwargs, **kwargs2})"
   ]
  },
  {
   "cell_type": "code",
   "execution_count": 52,
   "metadata": {},
   "outputs": [
    {
     "name": "stdout",
     "output_type": "stream",
     "text": [
      "This is madness!!!!\n"
     ]
    },
    {
     "name": "stderr",
     "output_type": "stream",
     "text": [
      "THIS  IS  SPARTA  !!!!\n"
     ]
    },
    {
     "name": "stdout",
     "output_type": "stream",
     "text": [
      "[5, 6, 7, 8, 9]\n",
      "[0, 1, 2, 3, 4, 5, 6, 7, 8, 9]\n"
     ]
    }
   ],
   "source": [
    "import sys\n",
    "shout = wrap(print, \"!!!!\", sep='', flush=True)\n",
    "shout(\"This is madness\") # This is madness!!!!\n",
    "shout(\"THIS\", \"IS\", \"SPARTA\", sep='  ', file=sys.stderr) # THIS  IS  SPARTA !!!! (in red)\n",
    "\n",
    "fixed_end_range = wrap(range, 10)\n",
    "print(list(fixed_end_range(5))) # [5, 6, 7, 8, 9]\n",
    "print(list(fixed_end_range(0))) # [0, 1, 2, 3, 4, 5, 6, 7, 8, 9]"
   ]
  },
  {
   "cell_type": "code",
   "execution_count": null,
   "metadata": {},
   "outputs": [],
   "source": []
  }
 ],
 "metadata": {
  "kernelspec": {
   "display_name": "Python 3",
   "language": "python",
   "name": "python3"
  },
  "language_info": {
   "codemirror_mode": {
    "name": "ipython",
    "version": 3
   },
   "file_extension": ".py",
   "mimetype": "text/x-python",
   "name": "python",
   "nbconvert_exporter": "python",
   "pygments_lexer": "ipython3",
   "version": "3.8.1"
  }
 },
 "nbformat": 4,
 "nbformat_minor": 2
}
