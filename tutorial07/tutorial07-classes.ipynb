{
 "cells": [
  {
   "cell_type": "markdown",
   "metadata": {},
   "source": [
    "# Třídy"
   ]
  },
  {
   "cell_type": "markdown",
   "metadata": {},
   "source": [
    "Budeme implementovat třídy na práci s grafy. Pro Python pochopitelně existuje nepočítaně knihoven pro záznam grafů a práci s nimi, nicméně je poučné (a dostatečně jednoduché) napsat si nějakou implementaci sami. Navíc si na ni budeme moci ukázat základy práce s třídami v Python'u, protože zavedení nového datového typu – kterým grafy jsou – je jedním z mála skutečně zdůvodnitelných důvodů, proč použít třídy ^_~."
   ]
  },
  {
   "cell_type": "markdown",
   "metadata": {},
   "source": [
    "## Grafy"
   ]
  },
  {
   "cell_type": "code",
   "execution_count": 1,
   "metadata": {},
   "outputs": [
    {
     "data": {
      "image/png": "[encoded data removed]",
      "text/plain": [
       "<PIL.PngImagePlugin.PngImageFile image mode=LA size=640x423 at 0x7F94EC1FC278>"
      ]
     },
     "execution_count": 1,
     "metadata": {},
     "output_type": "execute_result"
    }
   ],
   "source": [
    "from PIL import Image\n",
    "import numpy as np\n",
    "\n",
    "img = Image.open('graph.png')\n",
    "img"
   ]
  },
  {
   "cell_type": "markdown",
   "metadata": {},
   "source": [
    "**Graf** je tvořen: \n",
    "* vrcholy (vertices, nodes),\n",
    "* hranami (edges) - spojuje 2 vrcholy.\n",
    "\n",
    "**Vlastnosti**\n",
    "* sousedi - uzly spojené hranou,\n",
    "* stupeň uzlu (degree) - počet hran vycházejících z uzlu."
   ]
  },
  {
   "cell_type": "markdown",
   "metadata": {},
   "source": [
    "## Třída `Vertex` "
   ]
  },
  {
   "cell_type": "markdown",
   "metadata": {},
   "source": [
    "### 1. Vytvořte třídu `Vertex`, jejíž třídní proměnná `id` bude držet pořadové číslo posledné vytvořeného vrcholu a každý vytvořený vrchol si bude odpovídající číslo držet ve svém atributu `id`. Vhodně předepište magickou metodu `__str__()`, kterážto se používá při výpisu informací o objektu (nejen) pomocí funkce `print()`.\n",
    "\n",
    "**Tip**: Zjevně se hodí využít služeb třídních metod.\n",
    "\n"
   ]
  },
  {
   "cell_type": "code",
   "execution_count": 2,
   "metadata": {
    "tags": [
     "solution"
    ]
   },
   "outputs": [],
   "source": [
    "# TODO: Implement your solution."
   ]
  },
  {
   "cell_type": "code",
   "execution_count": 3,
   "metadata": {},
   "outputs": [
    {
     "name": "stdout",
     "output_type": "stream",
     "text": [
      "Vrchol číslo 1\n",
      "1\n",
      "Vrchol číslo 2\n",
      "2\n"
     ]
    }
   ],
   "source": [
    "v1 = Vertex()\n",
    "print(v1)\n",
    "print(v1.id)\n",
    "v2 = Vertex()\n",
    "print(v2)\n",
    "print(v2.id)"
   ]
  },
  {
   "cell_type": "markdown",
   "metadata": {},
   "source": [
    "### 2. Nyní doplňte uvedenou třídu o atribut `neighbours`, který bude ve formě množiny (protože každý soused musí mít při našem zjednodušení jedinečné ID) držet seznam všech vrcholů (tedy objektů typu `Vertex`!), a o metodu `add_neighbour(Vertex)` , která k danému vrcholu přidá právě jednoho souseda (a to opět jako objekt typu `Vertex`)\n",
    "\n",
    "**Pozor!** Přidáte-li vrcholu číslo 1 souseda číslo 2, zjevně vrchol číslo 2 musí obdržet souseda číslo 1!\n",
    "\n",
    "**Tip**:  Pokud rozšíříte popis objektu o seznam sousedů, rychle zjistíte, že výpis datového typu množina s prvky typu `Vertex` se vypisuje jinak, než jste možná čekali. Vše vyřeší doplnění metody `__repr__()`."
   ]
  },
  {
   "cell_type": "code",
   "execution_count": 4,
   "metadata": {
    "tags": [
     "solution"
    ]
   },
   "outputs": [],
   "source": [
    "# TODO: Implement your solution."
   ]
  },
  {
   "cell_type": "code",
   "execution_count": 5,
   "metadata": {},
   "outputs": [
    {
     "name": "stdout",
     "output_type": "stream",
     "text": [
      "Vrchol číslo 1 má sousedy set()\n",
      "Vrchol číslo 2 má sousedy set()\n",
      "Vrchol číslo 1 má sousedy {2}\n",
      "Vrchol číslo 2 má sousedy {1}\n"
     ]
    }
   ],
   "source": [
    "v1 = Vertex()\n",
    "print(v1)\n",
    "v2 = Vertex()\n",
    "print(v2)\n",
    "\n",
    "v1.add_neighbour(v2)\n",
    "print(v1)\n",
    "print(v2)\n"
   ]
  },
  {
   "cell_type": "markdown",
   "metadata": {},
   "source": [
    "### 3. Upravte třídu z předchozího příkladu tak, aby (přejmenovaná) metoda `add_neighbours(Vertex, Vertex, …)` dokázala zpracovat libovolný počet argumentů, a to i nulový.\n",
    "\n",
    "**Tip**: Operátor * je jasná volba."
   ]
  },
  {
   "cell_type": "code",
   "execution_count": 6,
   "metadata": {
    "tags": [
     "solution"
    ]
   },
   "outputs": [],
   "source": [
    "# TODO: Implement your solution."
   ]
  },
  {
   "cell_type": "code",
   "execution_count": 7,
   "metadata": {},
   "outputs": [
    {
     "name": "stdout",
     "output_type": "stream",
     "text": [
      "Vrchol číslo 1 má sousedy {3, 2}\n",
      "Vrchol číslo 2 má sousedy {1}\n",
      "Vrchol číslo 3 má sousedy {1}\n"
     ]
    }
   ],
   "source": [
    "v1 = Vertex()\n",
    "v2 = Vertex()\n",
    "v3 = Vertex()\n",
    "\n",
    "v1.add_neighbours(v2, v3)\n",
    "print(v1)\n",
    "print(v2)\n",
    "print(v3)"
   ]
  },
  {
   "cell_type": "markdown",
   "metadata": {},
   "source": [
    "### 4. Doplňte metodu `degree()`, která vypíše stupeň uzlu.\n",
    "\n",
    "**Tip**: Stupeň (degree) vrcholu je počet jeho sousedů."
   ]
  },
  {
   "cell_type": "code",
   "execution_count": 8,
   "metadata": {
    "tags": [
     "solution"
    ]
   },
   "outputs": [],
   "source": [
    "# TODO: Implement your solution."
   ]
  },
  {
   "cell_type": "code",
   "execution_count": 9,
   "metadata": {},
   "outputs": [
    {
     "name": "stdout",
     "output_type": "stream",
     "text": [
      "Vrchol číslo 1 má sousedy {2, 3} a stupeň 2\n",
      "Vrchol číslo 2 má sousedy {1} a stupeň 1\n"
     ]
    }
   ],
   "source": [
    "v1 = Vertex()\n",
    "v2 = Vertex()\n",
    "v3 = Vertex()\n",
    "\n",
    "v1.add_neighbours(v2, v3)\n",
    "print(v1, 'a stupeň', v1.degree())\n",
    "print(v2, 'a stupeň', v2.degree())"
   ]
  },
  {
   "cell_type": "markdown",
   "metadata": {},
   "source": [
    "### 5. Zkuste proto přepsat program tak, abyste aktuální stupeň vrcholu mohli získat dotazem `vertex.degree`.\n",
    "\n",
    "**Tip**: Tohle je práce pro protokol deskriptorů. A pokud – jako v tomto případě – nepotřebujete nic jiného než `getter`, je zcela výjimečně dekorátorová varianta kratší a přehlednější."
   ]
  },
  {
   "cell_type": "code",
   "execution_count": 10,
   "metadata": {
    "tags": [
     "solution"
    ]
   },
   "outputs": [],
   "source": [
    "# TODO: Implement your solution."
   ]
  },
  {
   "cell_type": "code",
   "execution_count": 11,
   "metadata": {},
   "outputs": [
    {
     "name": "stdout",
     "output_type": "stream",
     "text": [
      "Vrchol číslo 1 má sousedy {2, 3} a stupeň 2\n",
      "Vrchol číslo 2 má sousedy {1} a stupeň 1\n"
     ]
    }
   ],
   "source": [
    "v1 = Vertex()\n",
    "v2 = Vertex()\n",
    "v3 = Vertex()\n",
    "\n",
    "v1.add_neighbours(v2, v3)\n",
    "print(v1, 'a stupeň', v1.degree)\n",
    "print(v2, 'a stupeň', v2.degree)"
   ]
  },
  {
   "cell_type": "markdown",
   "metadata": {},
   "source": [
    "### 6. Doplňte vaši implementaci o metodu `remove_neighbours(Vertex, Vertex, ...)`, která ze seznamu sousedů daného vrcholu odstraní zadané (pokud jsou) sousedy.\n",
    "\n",
    "**Tip**: Pokud není důležité hlásit (či řešit) pokus o odstranění neexistujícího souseda, můžete s výhodou použít služeb množinové metody `discard()`. V opačném případě je čas pro `remove()`, ovšem kód se patřičně zesložití."
   ]
  },
  {
   "cell_type": "code",
   "execution_count": 12,
   "metadata": {
    "tags": [
     "solution"
    ]
   },
   "outputs": [],
   "source": [
    "# TODO: Implement your solution."
   ]
  },
  {
   "cell_type": "code",
   "execution_count": 13,
   "metadata": {},
   "outputs": [
    {
     "name": "stdout",
     "output_type": "stream",
     "text": [
      "Vrchol číslo 1 má sousedy {4, 2, 3}\n",
      "Vrchol číslo 2 má sousedy {1}\n",
      "Vrchol číslo 3 má sousedy {1}\n",
      "Vrchol číslo 4 má sousedy {1}\n",
      "Vrchol číslo 1 má sousedy {3}\n",
      "Vrchol číslo 2 má sousedy set()\n",
      "Vrchol číslo 3 má sousedy {1}\n",
      "Vrchol číslo 4 má sousedy set()\n"
     ]
    }
   ],
   "source": [
    "v1 = Vertex()\n",
    "v2 = Vertex()\n",
    "v3 = Vertex()\n",
    "v4 = Vertex()\n",
    "\n",
    "v1.add_neighbours(v2, v3, v4)\n",
    "print(v1)\n",
    "print(v2)\n",
    "print(v3)\n",
    "print(v4)\n",
    "v1.remove_neigbours(v2, v4)\n",
    "print(v1)\n",
    "print(v2)\n",
    "print(v3)\n",
    "print(v4)\n"
   ]
  },
  {
   "cell_type": "markdown",
   "metadata": {},
   "source": [
    "### 7. Doplňte metody na přidávání a odstraňování sousedů o kontrolu zda jsou volány se správnými parametry (tedy s objekty typu `Vertex`) \n",
    "\n",
    "**Tip**: Hledáte příkaz `assert` a spíše než`type()` funkci `isinstance(instance, class`)."
   ]
  },
  {
   "cell_type": "code",
   "execution_count": 14,
   "metadata": {
    "tags": [
     "solution"
    ]
   },
   "outputs": [],
   "source": [
    "# TODO: Implement your solution."
   ]
  },
  {
   "cell_type": "code",
   "execution_count": 15,
   "metadata": {},
   "outputs": [
    {
     "ename": "AssertionError",
     "evalue": "Zadáno '3' při přidávání souseda, očekáván typ 'Vertex'.",
     "output_type": "error",
     "traceback": [
      "\u001b[0;31m---------------------------------------------------------------------------\u001b[0m",
      "\u001b[0;31mAssertionError\u001b[0m                            Traceback (most recent call last)",
      "\u001b[0;32m<ipython-input-15-d5141d131433>\u001b[0m in \u001b[0;36m<module>\u001b[0;34m\u001b[0m\n\u001b[1;32m      4\u001b[0m \u001b[0mv4\u001b[0m \u001b[0;34m=\u001b[0m \u001b[0mVertex\u001b[0m\u001b[0;34m(\u001b[0m\u001b[0;34m)\u001b[0m\u001b[0;34m\u001b[0m\u001b[0;34m\u001b[0m\u001b[0m\n\u001b[1;32m      5\u001b[0m \u001b[0;34m\u001b[0m\u001b[0m\n\u001b[0;32m----> 6\u001b[0;31m \u001b[0mv1\u001b[0m\u001b[0;34m.\u001b[0m\u001b[0madd_neighbours\u001b[0m\u001b[0;34m(\u001b[0m\u001b[0mv2\u001b[0m\u001b[0;34m,\u001b[0m \u001b[0;36m3\u001b[0m\u001b[0;34m,\u001b[0m \u001b[0mv4\u001b[0m\u001b[0;34m)\u001b[0m\u001b[0;34m\u001b[0m\u001b[0;34m\u001b[0m\u001b[0m\n\u001b[0m\u001b[1;32m      7\u001b[0m \u001b[0;34m\u001b[0m\u001b[0m\n\u001b[1;32m      8\u001b[0m \u001b[0mv1\u001b[0m\u001b[0;34m.\u001b[0m\u001b[0madd_neighbours\u001b[0m\u001b[0;34m(\u001b[0m\u001b[0mv2\u001b[0m\u001b[0;34m,\u001b[0m \u001b[0mv3\u001b[0m\u001b[0;34m,\u001b[0m \u001b[0mv4\u001b[0m\u001b[0;34m)\u001b[0m\u001b[0;34m;\u001b[0m \u001b[0mprint\u001b[0m\u001b[0;34m(\u001b[0m\u001b[0mv1\u001b[0m\u001b[0;34m)\u001b[0m\u001b[0;34m\u001b[0m\u001b[0;34m\u001b[0m\u001b[0m\n",
      "\u001b[0;32m<ipython-input-14-27b043ea07e8>\u001b[0m in \u001b[0;36madd_neighbours\u001b[0;34m(self, *vertices)\u001b[0m\n\u001b[1;32m     14\u001b[0m     \u001b[0;32mdef\u001b[0m \u001b[0madd_neighbours\u001b[0m\u001b[0;34m(\u001b[0m\u001b[0mself\u001b[0m\u001b[0;34m,\u001b[0m \u001b[0;34m*\u001b[0m\u001b[0mvertices\u001b[0m\u001b[0;34m)\u001b[0m\u001b[0;34m:\u001b[0m\u001b[0;34m\u001b[0m\u001b[0;34m\u001b[0m\u001b[0m\n\u001b[1;32m     15\u001b[0m         \u001b[0;32mfor\u001b[0m \u001b[0mvertex\u001b[0m \u001b[0;32min\u001b[0m \u001b[0mvertices\u001b[0m\u001b[0;34m:\u001b[0m\u001b[0;34m\u001b[0m\u001b[0;34m\u001b[0m\u001b[0m\n\u001b[0;32m---> 16\u001b[0;31m             \u001b[0;32massert\u001b[0m \u001b[0misinstance\u001b[0m\u001b[0;34m(\u001b[0m\u001b[0mvertex\u001b[0m\u001b[0;34m,\u001b[0m \u001b[0mVertex\u001b[0m\u001b[0;34m)\u001b[0m\u001b[0;34m,\u001b[0m \u001b[0;34m\"Zadáno '\"\u001b[0m \u001b[0;34m+\u001b[0m \u001b[0mstr\u001b[0m\u001b[0;34m(\u001b[0m\u001b[0mvertex\u001b[0m\u001b[0;34m)\u001b[0m \u001b[0;34m+\u001b[0m \u001b[0;34m\"' při přidávání souseda, očekáván typ 'Vertex'.\"\u001b[0m\u001b[0;34m\u001b[0m\u001b[0;34m\u001b[0m\u001b[0m\n\u001b[0m\u001b[1;32m     17\u001b[0m             \u001b[0mvertex\u001b[0m\u001b[0;34m.\u001b[0m\u001b[0mneighbours\u001b[0m\u001b[0;34m.\u001b[0m\u001b[0madd\u001b[0m\u001b[0;34m(\u001b[0m\u001b[0mself\u001b[0m\u001b[0;34m)\u001b[0m\u001b[0;34m\u001b[0m\u001b[0;34m\u001b[0m\u001b[0m\n\u001b[1;32m     18\u001b[0m         \u001b[0mself\u001b[0m\u001b[0;34m.\u001b[0m\u001b[0mneighbours\u001b[0m\u001b[0;34m.\u001b[0m\u001b[0mupdate\u001b[0m\u001b[0;34m(\u001b[0m\u001b[0mvertices\u001b[0m\u001b[0;34m)\u001b[0m\u001b[0;34m\u001b[0m\u001b[0;34m\u001b[0m\u001b[0m\n",
      "\u001b[0;31mAssertionError\u001b[0m: Zadáno '3' při přidávání souseda, očekáván typ 'Vertex'."
     ]
    }
   ],
   "source": [
    "v1 = Vertex()\n",
    "v2 = Vertex()\n",
    "v3 = Vertex()\n",
    "v4 = Vertex()\n",
    "\n",
    "v1.add_neighbours(v2, 3, v4)\n",
    "\n",
    "v1.add_neighbours(v2, v3, v4); print(v1)\n",
    "v1.remove_neighbours(v2, 4)\n"
   ]
  },
  {
   "cell_type": "markdown",
   "metadata": {},
   "source": [
    "## 8. Jelikož datový typ množina si nepamatuje pořadí, upravte výpis vrcholů tak, aby byl seřazený podle jejich ID.\n",
    "\n",
    "**Tip**: Jinými slovy musíte objekty typu `Vertex` naučit reagovat na funkci `sorted()`</a>."
   ]
  },
  {
   "cell_type": "code",
   "execution_count": 16,
   "metadata": {
    "tags": [
     "solution"
    ]
   },
   "outputs": [],
   "source": [
    "# TODO: Implement your solution."
   ]
  },
  {
   "cell_type": "code",
   "execution_count": 17,
   "metadata": {},
   "outputs": [
    {
     "name": "stdout",
     "output_type": "stream",
     "text": [
      "Vrchol číslo 1 má sousedy []\n",
      "Vrchol číslo 2 má sousedy []\n",
      "Vrchol číslo 1 má sousedy [2, 3, 4]\n",
      "Vrchol číslo 2 má sousedy [1]\n"
     ]
    }
   ],
   "source": [
    "v1 = Vertex()\n",
    "v2 = Vertex()\n",
    "v3 = Vertex()\n",
    "v4 = Vertex()\n",
    "\n",
    "\n",
    "print(v1)\n",
    "print(v2)\n",
    "v1.add_neighbours(v2, v4, v3)\n",
    "print(v1)\n",
    "print(v2)"
   ]
  },
  {
   "cell_type": "markdown",
   "metadata": {},
   "source": [
    "## Třída `Graph`\n",
    "\n",
    "Graf je tvořen vrcholy, některé z nichž jsou spojeny hranami. Jelikož již máme k dispozici třídu `Vertex`, můžeme třídu `Graph` pro záznam grafu zavést několika možnými způsoby. "
   ]
  },
  {
   "cell_type": "markdown",
   "metadata": {},
   "source": [
    "### 9. Začněmež možností zadat vrcholy tvořící graf (ideálně již s existujícími propojeními) při zakládání třídy, tedy uvnitř její metody `__init__()`. Vrcholy patřící grafu budeme opět držet v datové struktuře množina.\n",
    "\n",
    "**PS**: Pro rozlišení mezi grafy opět každý z nich číslujte podobně jako vrcholy jedinečným identifikátorem."
   ]
  },
  {
   "cell_type": "code",
   "execution_count": 18,
   "metadata": {
    "tags": [
     "solution"
    ]
   },
   "outputs": [],
   "source": [
    "# TODO: Implement your solution."
   ]
  },
  {
   "cell_type": "code",
   "execution_count": 19,
   "metadata": {},
   "outputs": [
    {
     "name": "stdout",
     "output_type": "stream",
     "text": [
      "Graf číslo 1 obsahuje vrcholy [1, 2, 3, 4]\n",
      "Graf číslo 2 obsahuje vrcholy [1, 2]\n"
     ]
    }
   ],
   "source": [
    "g1 = Graph(v1, v2, v3, v4)\n",
    "print(g1)\n",
    "\n",
    "g2 = Graph(v2, v1)\n",
    "print(g2)"
   ]
  },
  {
   "cell_type": "markdown",
   "metadata": {},
   "source": [
    "### 10. Upravte proto předchozí řešení tak, aby výpis informací o grafu obsahoval i přehled hran mezi vrcholy.\n",
    "\n",
    "**Tip**: Protože hrana v našem případě spojuje symetricky dva vrcholy, je zrovna tento požadavek docela komplikací, protože hrany „zpátky“ by to chtělo znovu nevypisovat, pokud už jsme vypsali příslušné hrany „tam“. Nicméně tak jako tak asi budete potřebovat smyčku přes vrcholy a je otázka, jestli ji rovnou nedat do vlastní metody určené jen a pouze právě k výpisu hran."
   ]
  },
  {
   "cell_type": "code",
   "execution_count": 20,
   "metadata": {
    "tags": [
     "solution"
    ]
   },
   "outputs": [],
   "source": [
    "# TODO: Implement your solution."
   ]
  },
  {
   "cell_type": "code",
   "execution_count": 21,
   "metadata": {},
   "outputs": [
    {
     "name": "stdout",
     "output_type": "stream",
     "text": [
      "Graf číslo 1 obsahuje vrcholy [1, 2, 3, 4] spojené hranami {frozenset({1, 4}), frozenset({1, 3}), frozenset({1, 2})}\n"
     ]
    }
   ],
   "source": [
    "g1 = Graph(v1, v2, v3, v4)\n",
    "print(g1)"
   ]
  },
  {
   "cell_type": "markdown",
   "metadata": {},
   "source": [
    "### 11. Doplňte proto metodu  `add_vertices(Vertex, Vertex, …)`, která přidá libovolný počet zadaných vrcholů do grafu.\n",
    "\n",
    "**Tip**: Přidáváme tedy zatím stále kompletní vrcholy vybavené sousedy."
   ]
  },
  {
   "cell_type": "code",
   "execution_count": 22,
   "metadata": {
    "tags": [
     "solution"
    ]
   },
   "outputs": [],
   "source": [
    "# TODO: Implement your solution."
   ]
  },
  {
   "cell_type": "code",
   "execution_count": 23,
   "metadata": {},
   "outputs": [
    {
     "name": "stdout",
     "output_type": "stream",
     "text": [
      "Vrchol číslo 5 má sousedy [6, 7, 8]\n",
      "Graf číslo 1 obsahuje vrcholy [5] spojené hranami {frozenset({8, 5}), frozenset({5, 6}), frozenset({5, 7})}\n",
      "Graf číslo 1 obsahuje vrcholy [5, 6, 7, 8] spojené hranami {frozenset({8, 5}), frozenset({5, 6}), frozenset({5, 7})}\n"
     ]
    }
   ],
   "source": [
    "v1 = Vertex()\n",
    "v2 = Vertex()\n",
    "v3 = Vertex()\n",
    "v4 = Vertex()\n",
    "v1.add_neighbours(v2, v3, v4)\n",
    "print(v1)\n",
    "\n",
    "g1 = Graph(v1)\n",
    "print(g1)\n",
    "g1.add_vertices(v2, v3, v4)\n",
    "print(g1)"
   ]
  },
  {
   "cell_type": "markdown",
   "metadata": {},
   "source": [
    "### 12. Naimplementujte metodu `connect_vertices(vertex1, vertex2)`, která spojí hranou dva vrcholy.\n",
    "\n",
    "**Tip**:  Nyní tedy již přidáváme do grafu „čisté“ vrcholy a hrany doplňujeme až později."
   ]
  },
  {
   "cell_type": "code",
   "execution_count": 24,
   "metadata": {
    "tags": [
     "solution"
    ]
   },
   "outputs": [],
   "source": [
    "# TODO: Implement your solution."
   ]
  },
  {
   "cell_type": "code",
   "execution_count": 25,
   "metadata": {},
   "outputs": [
    {
     "name": "stdout",
     "output_type": "stream",
     "text": [
      "Vrchol číslo 9 má sousedy []\n",
      "Graf číslo 1 obsahuje vrcholy [9, 10, 11] spojené hranami set()\n",
      "Graf číslo 1 obsahuje vrcholy [9, 10, 11] spojené hranami {frozenset({9, 10})}\n"
     ]
    }
   ],
   "source": [
    "v1 = Vertex()\n",
    "v2 = Vertex()\n",
    "v3 = Vertex()\n",
    "print(v1)\n",
    "\n",
    "g1 = Graph(v1, v2, v3)\n",
    "print(g1)\n",
    "g1.connect_vertices(v1, v2)\n",
    "print(g1)"
   ]
  },
  {
   "cell_type": "markdown",
   "metadata": {},
   "source": [
    "### 13. Napište metodu `remove_vertices(Vertex, Vertex, ...)`, která odstraní zadané vrcholy. Při odstraňování vrcholu musíme odstranit také všechny hrany, které do něj vedou.\n",
    "\n",
    "**Tip**: Jedná se tedy o dvoukrokovou operaci – kromě odstranění samotného vrcholu ze seznamu (u nás množiny) vrcholů grafu, musíme také ze všech zainteresovaných vrcholů odstranit informace o případných hranách, které je mohou spojovat."
   ]
  },
  {
   "cell_type": "code",
   "execution_count": 26,
   "metadata": {
    "tags": [
     "solution"
    ]
   },
   "outputs": [],
   "source": [
    "# TODO: Implement your solution."
   ]
  },
  {
   "cell_type": "code",
   "execution_count": 27,
   "metadata": {},
   "outputs": [
    {
     "name": "stdout",
     "output_type": "stream",
     "text": [
      "Graf číslo 1 obsahuje vrcholy [12, 13, 14] spojené hranami {frozenset({13, 14}), frozenset({12, 13}), frozenset({12, 14})}\n",
      "Vrchol číslo 14 má sousedy [12, 13]\n",
      "Graf číslo 1 obsahuje vrcholy [12] spojené hranami set()\n",
      "Vrchol číslo 14 má sousedy []\n",
      "Vrchol číslo 13 má sousedy []\n"
     ]
    }
   ],
   "source": [
    "v1 = Vertex()\n",
    "v2 = Vertex()\n",
    "v3 = Vertex()\n",
    "\n",
    "g1 = Graph(v1, v2, v3)\n",
    "g1.connect_vertices(v1, v2)\n",
    "g1.connect_vertices(v1, v3)\n",
    "g1.connect_vertices(v2, v3)\n",
    "print(g1)\n",
    "print(v3)\n",
    "g1.remove_vertices(v3, v2)\n",
    "print(g1)\n",
    "print(v3)\n",
    "print(v2)\n"
   ]
  },
  {
   "cell_type": "markdown",
   "metadata": {},
   "source": [
    "### 14. Připište ještě metodu (nebo vlastnost) `export_graph()` , která vrátí informace o grafu v následující textové podobě: \n",
    "\n",
    "number_of_vertices; vertex_number-vertex_number,…\n",
    "\n",
    "**Tip**: V podstatě můžete využít kód pro výpis hran u popisu grafu. Záleží samozřejmě, jak konkrétně ho máte napsaný."
   ]
  },
  {
   "cell_type": "code",
   "execution_count": 28,
   "metadata": {
    "tags": [
     "solution"
    ]
   },
   "outputs": [],
   "source": [
    "# TODO: Implement your solution."
   ]
  },
  {
   "cell_type": "code",
   "execution_count": 29,
   "metadata": {},
   "outputs": [
    {
     "name": "stdout",
     "output_type": "stream",
     "text": [
      "Graf číslo 1 obsahuje vrcholy [15, 16, 17] spojené hranami {frozenset({16, 17}), frozenset({16, 15}), frozenset({17, 15})}\n",
      "3;16-17,16-15,17-15\n"
     ]
    }
   ],
   "source": [
    "v1 = Vertex()\n",
    "v2 = Vertex()\n",
    "v3 = Vertex()\n",
    "\n",
    "g1 = Graph(v1, v2, v3)\n",
    "g1.connect_vertices(v1, v2)\n",
    "g1.connect_vertices(v1, v3)\n",
    "g1.connect_vertices(v2, v3)\n",
    "print(g1)\n",
    "print(g1.export_graph)\n"
   ]
  },
  {
   "cell_type": "markdown",
   "metadata": {},
   "source": [
    "### 15.  Na konec tohoto cvičení implementujte ještě funkci opačnou k předchozí – metoda `import_graph(string)` naimportujte do podoby grafu jeho řetězcovou reprezentaci ve stejném formátu jako v předchozím kroku.\n",
    "\n",
    "**Tip**:  Menším problémem může být, že naše metody pro přidávání vrcholů očekávají na vstupu referenci na vrchol, zatímco tento textový formát referencuje vrcholy pomocí jejich ID. Nicméně pokud se omezíme na jediný graf, aby se nám nemotala globální ID vrcholů s jejich pořadovými čísly pro jednotlivé grafy, je řešení celkem jednoduché."
   ]
  },
  {
   "cell_type": "code",
   "execution_count": 30,
   "metadata": {
    "tags": [
     "solution"
    ]
   },
   "outputs": [],
   "source": [
    "# TODO: Implement your solution."
   ]
  },
  {
   "cell_type": "code",
   "execution_count": 31,
   "metadata": {},
   "outputs": [
    {
     "name": "stdout",
     "output_type": "stream",
     "text": [
      "Graf číslo 1 obsahuje vrcholy [] spojené hranami set()\n",
      "None\n",
      "Graf číslo 1 obsahuje vrcholy [1, 2, 3, 4] spojené hranami {frozenset({'1', '3'}), frozenset({'1', '2'}), frozenset({'2', '3'}), frozenset({'4', '3'})}\n"
     ]
    }
   ],
   "source": [
    "g1 = Graph()\n",
    "print(g1)\n",
    "print(g1.import_graph('4;1-3,1-2,2-3,3-4'))\n",
    "print(g1)"
   ]
  }
 ],
 "metadata": {
  "kernelspec": {
   "display_name": "Python 3",
   "language": "python",
   "name": "python3"
  },
  "language_info": {
   "codemirror_mode": {
    "name": "ipython",
    "version": 3
   },
   "file_extension": ".py",
   "mimetype": "text/x-python",
   "name": "python",
   "nbconvert_exporter": "python",
   "pygments_lexer": "ipython3",
   "version": "3.7.3"
  }
 },
 "nbformat": 4,
 "nbformat_minor": 2
}
