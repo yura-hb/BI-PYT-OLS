{
 "cells": [
  {
   "cell_type": "markdown",
   "metadata": {},
   "source": [
    "# Pandas = Python Data Analysis Library"
   ]
  },
  {
   "cell_type": "code",
   "execution_count": null,
   "metadata": {},
   "outputs": [],
   "source": [
    "import matplotlib.pyplot as plt\n",
    "plt.imshow(plt.imread('panda.jpeg'));"
   ]
  },
  {
   "cell_type": "markdown",
   "metadata": {},
   "source": [
    "Knihovna pro práci s daty v tabulkovém formátu."
   ]
  },
  {
   "cell_type": "code",
   "execution_count": null,
   "metadata": {},
   "outputs": [],
   "source": [
    "import pandas as pd # Konvence je importovat pandas cely pod nazvem pd"
   ]
  },
  {
   "cell_type": "code",
   "execution_count": null,
   "metadata": {},
   "outputs": [],
   "source": [
    "# Zakladni datovy typ - DataFrame (tabulka)\n",
    "df = pd.DataFrame([\n",
    "    [10, 1],\n",
    "    [20, 2],\n",
    "    [30, 3]\n",
    "], columns=['First', 'Second'])\n",
    "\n",
    "df"
   ]
  },
  {
   "cell_type": "code",
   "execution_count": null,
   "metadata": {},
   "outputs": [],
   "source": [
    "# Jednolive sloupce tabulky jsou pristupne podle jejich nazvu\n",
    "df['First'] # df.First"
   ]
  },
  {
   "cell_type": "code",
   "execution_count": null,
   "metadata": {},
   "outputs": [],
   "source": [
    "# K radkum podle indexu \n",
    "df.loc[2]"
   ]
  },
  {
   "cell_type": "code",
   "execution_count": null,
   "metadata": {},
   "outputs": [],
   "source": [
    "## podle jmena\n",
    "display(df.loc[0, 'First']) # klasicky plati [radek, sloupe]\n",
    "## podle poradi\n",
    "display(df.iloc[0, 0])\n",
    "## podle podminky\n",
    "display(df.loc[df['First'] == 20])\n",
    "\n",
    "# Muzeme i vyrezavat (slice)\n",
    "display(df.iloc[0:2, :])"
   ]
  },
  {
   "cell_type": "code",
   "execution_count": null,
   "metadata": {},
   "outputs": [],
   "source": [
    "# Nazvy sloupcu jsou vlaste take indexy,\n",
    "# ale vetsinou se setkame s argumentem columns pro sloupecky a index pro radky\n",
    "# Z toho duvodu se casto pracuje se sloupecky a radky podobne\n",
    "\n",
    "df.mean(axis='index') # df.mean(axis=0)"
   ]
  },
  {
   "cell_type": "code",
   "execution_count": null,
   "metadata": {},
   "outputs": [],
   "source": [
    "df.mean(axis='columns') # df.mean(axis=1)"
   ]
  },
  {
   "cell_type": "code",
   "execution_count": null,
   "metadata": {},
   "outputs": [],
   "source": [
    "df.T"
   ]
  },
  {
   "cell_type": "code",
   "execution_count": null,
   "metadata": {},
   "outputs": [],
   "source": [
    "# Z vystupu vydime, ze vystup operace se sloupecky a radky je podobny - tzv. Series (druhy zakladni typ v pandas)\n",
    "# Series - 1D pole, DataFrame 2D pole\n",
    "series = pd.Series(['a', 'b', 'b'])\n",
    "series"
   ]
  },
  {
   "cell_type": "code",
   "execution_count": null,
   "metadata": {},
   "outputs": [],
   "source": [
    "# Prirazeni\n",
    "df.loc[0, 'First'] = None # jedna bunka\n",
    "df['New'] = list(range(len(df)))\n",
    "df"
   ]
  },
  {
   "cell_type": "code",
   "execution_count": null,
   "metadata": {},
   "outputs": [],
   "source": [
    "# Typy\n",
    "## Zakladni typy - int, float, string, datatime + object\n",
    "df['String'] = series\n",
    "df['Object'] = [1, 'a', None]\n",
    "\n",
    "display(df)\n",
    "\n",
    "display(df.info())"
   ]
  },
  {
   "cell_type": "code",
   "execution_count": null,
   "metadata": {},
   "outputs": [],
   "source": [
    "# Hledani unikatnich hodnot\n",
    "df['String'].unique()"
   ]
  },
  {
   "cell_type": "code",
   "execution_count": null,
   "metadata": {},
   "outputs": [],
   "source": [
    "# Nahrazovani\n",
    "df['String'].replace({'a': 'c'})"
   ]
  },
  {
   "cell_type": "code",
   "execution_count": null,
   "metadata": {},
   "outputs": [],
   "source": [
    "# Prace s NaN hodnotami (docela slozita)\n",
    "display(df['Object'].isna())\n",
    "\n",
    "display(df['Object'].fillna(1))\n",
    "\n",
    "\n",
    "df['First'].sum()"
   ]
  },
  {
   "cell_type": "code",
   "execution_count": null,
   "metadata": {},
   "outputs": [],
   "source": [
    "# Statistika\n",
    "df.agg(['mean', 'sum', 'count'])"
   ]
  },
  {
   "cell_type": "code",
   "execution_count": null,
   "metadata": {},
   "outputs": [],
   "source": [
    "# nebo postupne\n",
    "df.mean()\n",
    "df.sum()"
   ]
  },
  {
   "cell_type": "code",
   "execution_count": null,
   "metadata": {},
   "outputs": [],
   "source": [
    "# nebo vse najednou\n",
    "df.describe()"
   ]
  },
  {
   "cell_type": "code",
   "execution_count": null,
   "metadata": {},
   "outputs": [],
   "source": [
    "# vizualizace\n",
    "\n",
    "df.plot('New', 'Second', marker='o')"
   ]
  },
  {
   "cell_type": "markdown",
   "metadata": {},
   "source": [
    ".. A spousta dalsich veci.\n",
    "\n",
    "Jako v zaklanim pythonu plati pravidlo. Kdyz neco chci udelat, zkusim Google jestli to uz neni nahodnou implementovane."
   ]
  }
 ],
 "metadata": {
  "kernelspec": {
   "display_name": "Python 3",
   "language": "python",
   "name": "python3"
  },
  "language_info": {
   "codemirror_mode": {
    "name": "ipython",
    "version": 3
   },
   "file_extension": ".py",
   "mimetype": "text/x-python",
   "name": "python",
   "nbconvert_exporter": "python",
   "pygments_lexer": "ipython3",
   "version": "3.7.3"
  }
 },
 "nbformat": 4,
 "nbformat_minor": 2
}
