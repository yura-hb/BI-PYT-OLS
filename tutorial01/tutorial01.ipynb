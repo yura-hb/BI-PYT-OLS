{
 "cells": [
  {
   "cell_type": "markdown",
   "metadata": {},
   "source": [
    "# Základy Python'u\n",
    "\n",
    "## 1. Práce s čísly:\n",
    "Proveďte následující úkoly a výsledek vypište pomocí funkce `print`\n",
    "\n",
    "1. Sečtěte a čísla 3, 4 a 5.\n",
    "2. Sečtěte druhé mocniny čísel 3, 4 a 5.\n",
    "3. Ověřte, že pro čísla 3, 4, 5 platí Pythagorova věta.\n",
    "4. Spočtěte v reálném oboru, kolikrát se vejde číslo 7 do čísla 51.\n",
    "5. Spočtěte v celočíselném oboru, kolikrát se vejde číslo 7 do čísla 51.\n",
    "6. Zjistěte, jaký je zbytek po celočíselném dělení čísla 51 číslem 7.\n"
   ]
  },
  {
   "cell_type": "markdown",
   "metadata": {},
   "source": [
    "### HINT\n",
    "Procvičování na základní operace s čísly aneb Python jako kalkulačka. Nezapomeňte na rozdíly mezi operátory /, // a %.\n"
   ]
  },
  {
   "cell_type": "code",
   "execution_count": 1,
   "metadata": {
    "tags": [
     "solution"
    ]
   },
   "outputs": [
    {
     "name": "stdout",
     "output_type": "stream",
     "text": [
      "12\n",
      "50\n",
      "True\n",
      "7.285714285714286\n",
      "7\n",
      "2\n"
     ]
    }
   ],
   "source": [
    "# TODO: Implement your solution.\n",
    "print(3 + 4 + 5)\n",
    "print(3 ** 2 + 4 ** 2 + 5 ** 2)\n",
    "print(3 ** 2 + 4 ** 2 == 5 ** 2)\n",
    "print(51 / 7)\n",
    "print(51 // 7)\n",
    "print(51 % 7)"
   ]
  },
  {
   "cell_type": "markdown",
   "metadata": {},
   "source": [
    "## 2. Práce s řetězci:\n",
    "1. Zjistěte počet znaků ve vašem jméně. Pro načtení jména použijte funkci `input()`\n",
    "2. Vypište první znak vašeho jména.\n",
    "3. Vypište druhý znak vašeho jména.\n",
    "4. Vypište poslední znak vašeho jména.\n",
    "5. Vypište předposlední znak vašeho jména.\n",
    "\n"
   ]
  },
  {
   "cell_type": "markdown",
   "metadata": {},
   "source": [
    "### HINT\n",
    "Jen naprosté základy, pořádně probereme v budoucnosti. Nápověda: len(), [n]"
   ]
  },
  {
   "cell_type": "code",
   "execution_count": 4,
   "metadata": {
    "tags": [
     "solution"
    ]
   },
   "outputs": [
    {
     "name": "stdout",
     "output_type": "stream",
     "text": [
      "yury\n",
      "4\n",
      "y\n",
      "u\n",
      "y\n",
      "r\n"
     ]
    }
   ],
   "source": [
    "# TODO: Implement your solution.\n",
    "name = input()\n",
    "print(len(name))\n",
    "print(name[0])\n",
    "print(name[1])\n",
    "print(name[-1])\n",
    "print(name[-2])"
   ]
  },
  {
   "cell_type": "markdown",
   "metadata": {},
   "source": [
    "## 3. Podmínky:\n",
    "1. Vypište větší ze dvou zadaných čísel. Čísla si uložte do proměnných\n",
    "2. Upravte předchozí program – vypište obě zadaná čísla se slovním komentářem, které z nich je větší.\n",
    "3. Ukažte výsledek porovnání délek (počtu písmen) obou částí vašeho jména.\n",
    "4. Vyzkoušením obou možností uzávorkování zjistěte na výrazu False and False or True který z logických operátorů and a or má vyšší prioritu.\n",
    "5. Zopakujte si předchozí příklad pro zadání 0 and '' or \"Ahoj!\". Co zjistíte?"
   ]
  },
  {
   "cell_type": "markdown",
   "metadata": {},
   "source": [
    "### HINT \n",
    "if-else, skládání podmínek. Jde to samozřejmě i různě jinak.\n"
   ]
  },
  {
   "cell_type": "code",
   "execution_count": 2,
   "metadata": {
    "tags": [
     "solution"
    ]
   },
   "outputs": [
    {
     "name": "stdout",
     "output_type": "stream",
     "text": [
      "10\n",
      "20\n",
      "20\n"
     ]
    }
   ],
   "source": [
    "# TODO: Implement your solution.\n",
    "a = input()\n",
    "b = input()\n",
    "if a >= b:\n",
    "    print(a)\n",
    "else:\n",
    "    print(b)"
   ]
  },
  {
   "cell_type": "markdown",
   "metadata": {},
   "source": [
    "## 4. Cyklus while:\n",
    "1. Vypište 11x pozdrav Ahoj!\n",
    "2. Vypište postupně čísla 0 až 9, tj. takto vzestupně.\n",
    "3. Vypište postupně čísla 9 až 0, tj. takto sestupně.\n",
    "4. Vypište postupně všechna písmenka ve vašem jméně. (Procházejte řetězec s vaším jménem po indexech a zaražte se na správné délce. Tj. použijte notaci [] a funkci len().)\n",
    "5. Vypište z vašeho jména každý druhý znak."
   ]
  },
  {
   "cell_type": "markdown",
   "metadata": {},
   "source": [
    "### HINT\n",
    "Nezapomeňte, že v těle cyklu musíte měnit to, na čem závisí podmínka, abyste z něj mohli vůbec někdy odejít (jinak než pomocí break). Jinak se zrovna tahle konstrukce používá skoro jako všude jinde (až na to, že v rámci podmínky nemůže být přiřazovací příkaz, což může ze začátku docela chybět).\n"
   ]
  },
  {
   "cell_type": "code",
   "execution_count": 10,
   "metadata": {
    "tags": [
     "solution"
    ]
   },
   "outputs": [
    {
     "name": "stdout",
     "output_type": "stream",
     "text": [
      "Ahoj!\n",
      "Ahoj!\n",
      "Ahoj!\n",
      "Ahoj!\n",
      "Ahoj!\n",
      "Ahoj!\n",
      "Ahoj!\n",
      "Ahoj!\n",
      "Ahoj!\n",
      "Ahoj!\n",
      "Ahoj!\n",
      "\n",
      "0\n",
      "1\n",
      "2\n",
      "3\n",
      "4\n",
      "5\n",
      "6\n",
      "7\n",
      "8\n",
      "9\n",
      "\n",
      "9\n",
      "8\n",
      "7\n",
      "6\n",
      "5\n",
      "4\n",
      "3\n",
      "2\n",
      "1\n",
      "0\n",
      "\n",
      "y\n",
      "u\n",
      "r\n",
      "y\n"
     ]
    }
   ],
   "source": [
    "# TODO: Implement your solution.\n",
    "iter = 11\n",
    "\n",
    "while bool(iter):\n",
    "    print('Ahoj!')\n",
    "    iter -= 1\n",
    "\n",
    "print()\n",
    "    \n",
    "while iter <= 9:\n",
    "    print(iter)\n",
    "    iter += 1\n",
    "\n",
    "print()\n",
    "    \n",
    "while iter > 0:\n",
    "    iter -= 1\n",
    "    print(iter)\n",
    "     \n",
    "print()\n",
    "    \n",
    "name = \"yury\"\n",
    "\n",
    "while iter != len(name):\n",
    "    print(name[iter])\n",
    "    iter += 1\n",
    "\n",
    "    "
   ]
  },
  {
   "cell_type": "markdown",
   "metadata": {},
   "source": [
    "## 5. Cyklus for-in:\n",
    "1. Vypište si postupně všechna písmena ve vašem jméně.\n",
    "2. Vypište všechna čísla od 0 do 10.\n",
    "3. Vypište 11x pozdrav Ahoj!\n",
    "4. Sečtěte čísla mezi 0 a 10.\n",
    "5. Rozšiřte předchozí příklad – spočítejte průměrnou hodnotu z daných čísel. (Použijte funkci len() na příslušný rozsah.)\n",
    "6. Vypište z vašeho jména každý druhý znak.\n",
    "7. Vypište z vašeho jména každý třetí znak."
   ]
  },
  {
   "cell_type": "markdown",
   "metadata": {},
   "source": [
    "### HINT \n",
    "Pozor – for je v Python'u (narozdíl od předchozího while) hodně jiný! Skoro všechny příklady vyžadují aplikaci jednoduchého rozsahu ve formě range(n).\n"
   ]
  },
  {
   "cell_type": "code",
   "execution_count": 22,
   "metadata": {
    "tags": [
     "solution"
    ]
   },
   "outputs": [
    {
     "name": "stdout",
     "output_type": "stream",
     "text": [
      "y\n",
      "u\n",
      "r\n",
      "y\n",
      "0\n",
      "1\n",
      "2\n",
      "3\n",
      "4\n",
      "5\n",
      "6\n",
      "7\n",
      "8\n",
      "9\n",
      "Ahoj!\n",
      "Ahoj!\n",
      "Ahoj!\n",
      "Ahoj!\n",
      "Ahoj!\n",
      "Ahoj!\n",
      "Ahoj!\n",
      "Ahoj!\n",
      "Ahoj!\n",
      "Ahoj!\n",
      "Ahoj!\n",
      "45\n",
      "4.5\n",
      "u\n",
      "y\n",
      "r\n"
     ]
    }
   ],
   "source": [
    "# TODO: Implement your solution.\n",
    "name = 'yury'\n",
    "\n",
    "for char in name:\n",
    "    print(char)\n",
    "\n",
    "for i in range(10):\n",
    "    print(i)\n",
    "    \n",
    "for i in range(11):\n",
    "    print(\"Ahoj!\")\n",
    "    \n",
    "sum = 0\n",
    "\n",
    "for i in range(10):\n",
    "    sum += i\n",
    "\n",
    "print(sum)\n",
    "\n",
    "\n",
    "stride = range(10)\n",
    "length = len(stride)\n",
    "\n",
    "medium = sum / length\n",
    "\n",
    "print(medium)\n",
    "\n",
    "\n",
    "for i in enumerate(name):\n",
    "    if i[0] % 2 == 1:\n",
    "        print(i[1]);\n",
    "    \n",
    "\n",
    "for i in enumerate(name):\n",
    "    if i[0] % 3 == 2:\n",
    "        print(i[1]);\n",
    "\n"
   ]
  },
  {
   "cell_type": "markdown",
   "metadata": {},
   "source": [
    "## 6. Vytvořte následující rozsahy:\n",
    "1. čísla od 0 do 7\n",
    "2. čísla od 3 do 9\n",
    "3. čísla od 3 do 13 s krokem 3\n",
    "\n",
    "V následujících příkladech použijte záporný krok:\n",
    "\n",
    "4. čísla od 11 do 7\n",
    "5. čísla od 11 do 4 s krokem 2\n",
    "6. lichá čísla od 20 do 10"
   ]
  },
  {
   "cell_type": "markdown",
   "metadata": {},
   "source": [
    "### HINT \n",
    "Nezapomeňte, že koncové číslo rozsahu do výsledné sekvence již nepatří! Rozsahy jsou v Python'u velmi důležité a používají se skoro všude, proto se jim budeme ještě hodně věnovat."
   ]
  },
  {
   "cell_type": "code",
   "execution_count": 30,
   "metadata": {
    "tags": [
     "solution"
    ]
   },
   "outputs": [
    {
     "name": "stdout",
     "output_type": "stream",
     "text": [
      "range(0, 7) range(3, 9) range(3, 13, 3) range(11, 7) range(11, 4, 2) range(20, 10, -2)\n"
     ]
    }
   ],
   "source": [
    "# TODO: Implement your solution.\n",
    "range1 = range(7)\n",
    "range2 = range(3, 9)\n",
    "range3 = range(3, 13, 3)\n",
    "range4 = range(11, 7)\n",
    "range5 = range(11, 4, 2)\n",
    "range6 = range(20, 10, -2)\n",
    "\n",
    "\n",
    "print(range1, range2, range3, range4, range5, range6)"
   ]
  },
  {
   "cell_type": "markdown",
   "metadata": {},
   "source": [
    "## 7. Základní práce s funkcemi:\n",
    "1. Napište funkci factorial(n).\n",
    "2. Napište funkci, která bude počítat třetí mocninu zadaného čísla.\n",
    "3. Napište funkci, která bude jako parametr brát dva parametry: jméno a příjmení. Příjmení je nepovinný parametr a při nezadání se nepoužije. Na výstupu vracet pozdrav daného člověka. \n",
    "4. Napište funkci, která vrátí strukturovaný aktuální čas. (Použijte datetime z modulu datetime a jeho metodu strftime().)\n"
   ]
  },
  {
   "cell_type": "markdown",
   "metadata": {},
   "source": [
    "### HINT\n",
    "Tak tohle cvičení je tady opravdu jenom proto, abyste si vyzkoušeli, jak se píše funkce v Python'u. Víc (dokonce mnohem víc) o funkcích sipovíme až na pozdějších přednáškách. Nultá úloha se odkazuje na přednášku, klidně ji ignorujte.\n"
   ]
  },
  {
   "cell_type": "code",
   "execution_count": 40,
   "metadata": {
    "tags": [
     "solution"
    ]
   },
   "outputs": [
    {
     "name": "stdout",
     "output_type": "stream",
     "text": [
      "1\n",
      "9.0\n",
      "Ahoj yury!\n",
      "Ahoj Yury Hayeu!\n"
     ]
    }
   ],
   "source": [
    "# TODO: Implement your solution.\n",
    "def factorial(n):\n",
    "    mult = 1\n",
    "    for i in range(1, n + 1):\n",
    "        mult *= i\n",
    "    \n",
    "    return mult\n",
    "\n",
    "print(factorial(1))\n",
    "\n",
    "def cubicRoot(n):\n",
    "    return n ** 1/3\n",
    "\n",
    "print(cubicRoot(27))\n",
    "\n",
    "\n",
    "def pozdrav(name, prijmeni=None):\n",
    "    if prijmeni is None:\n",
    "        print(\"Ahoj {}!\".format(name))\n",
    "    else:\n",
    "        print(\"Ahoj {} {}!\".format(name, prijmeni))\n",
    "    \n",
    "pozdrav(\"yury\")\n",
    "pozdrav(\"Yury\", \"Hayeu\")"
   ]
  },
  {
   "cell_type": "code",
   "execution_count": 62,
   "metadata": {},
   "outputs": [
    {
     "name": "stdout",
     "output_type": "stream",
     "text": [
      "Date: Monday 17 February 2020 Time: 11:32:49\n"
     ]
    }
   ],
   "source": [
    "import datetime as dt\n",
    "\n",
    "def format(date):\n",
    "    print(dt.datetime.strftime(date, format='Date: %A %d %B %Y Time: %H:%M:%S'))\n",
    "        \n",
    "format(datetime.datetime.now())"
   ]
  }
 ],
 "metadata": {
  "kernelspec": {
   "display_name": "Python 3",
   "language": "python",
   "name": "python3"
  },
  "language_info": {
   "codemirror_mode": {
    "name": "ipython",
    "version": 3
   },
   "file_extension": ".py",
   "mimetype": "text/x-python",
   "name": "python",
   "nbconvert_exporter": "python",
   "pygments_lexer": "ipython3",
   "version": "3.8.1"
  }
 },
 "nbformat": 4,
 "nbformat_minor": 2
}
