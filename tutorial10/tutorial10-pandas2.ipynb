{
 "cells": [
  {
   "cell_type": "markdown",
   "metadata": {},
   "source": [
    "# Pandas II\n",
    "\n",
    "Pokračování cvičení Pandas I. První čast notebooku je stejná jako na prvním cvičení. Řešení úloh je k dispozici, protože další úlohy na ně navazují."
   ]
  },
  {
   "cell_type": "markdown",
   "metadata": {},
   "source": [
    "### 0. Připravte si data\n",
    "\n",
    "1. Stáhněte si soubor https://datahub.io/sports-data/english-premier-league/r/season-1819.csv\n",
    "1. Umístěte jej do složky data"
   ]
  },
  {
   "cell_type": "markdown",
   "metadata": {},
   "source": [
    "### 1. Načtěte data set `season-1819_csv.csv` a provedte následující úpravy:\n",
    "\n",
    "1. načtěte pouze prvních 17 sloupců\n",
    "1. zahoďte sloupce Div, FTR a HTR\n",
    "1. sloupec Date převeďte na datetime\n",
    "1. přejmenujte sloupce:\n",
    "  * FTHG: FullTimeHomeGoals\n",
    "  * FTAG: FullTimeAwayGoals\n",
    "  * HTHG: HalfTimeHomeGoals\n",
    "  * HTAG: HalfTimeAwayGoals\n",
    "  * HS: HomeShots\n",
    "  * AS: AwayShots\n",
    "  * HST: HomeShotsTarget\n",
    "  * AST: AwayShotsTarget\n",
    "  * HF: HomeFauls\n",
    "  * AF: AwayFauls"
   ]
  },
  {
   "cell_type": "code",
   "execution_count": null,
   "metadata": {},
   "outputs": [],
   "source": [
    "%matplotlib inline\n",
    "\n",
    "import matplotlib.pyplot as plt\n",
    "import pandas as pd"
   ]
  },
  {
   "cell_type": "code",
   "execution_count": null,
   "metadata": {},
   "outputs": [],
   "source": [
    "PREMIER_LEAGUE_DATASET_URL = 'https://datahub.io/sports-data/english-premier-league/r/season-1819.csv'\n",
    "\n"
   ]
  },
  {
   "cell_type": "code",
   "execution_count": null,
   "metadata": {},
   "outputs": [],
   "source": [
    "import os\n",
    "\n",
    "matches = (\n",
    "    pd.read_csv(PREMIER_LEAGUE_DATASET_URL, parse_dates=['Date'], usecols=range(0,17))\n",
    "    .drop(['Div', 'FTR', 'HTR'], axis='columns')\n",
    "    .rename(columns={\n",
    "        'FTHG': 'FullTimeHomeGoals',\n",
    "        'FTAG': 'FullTimeAwayGoals',\n",
    "        'HTHG': 'HalfTimeHomeGoals',\n",
    "        'HTAG': 'HalfTimeAwayGoals',\n",
    "        'HS': 'HomeShots',\n",
    "        'AS': 'AwayShots',\n",
    "        'HST': 'HomeShotsTarget',\n",
    "        'AST': 'AwayShotsTarget',\n",
    "        'HF': 'HomeFauls',\n",
    "        'AF': 'AwayFauls'\n",
    "    })\n",
    ")\n",
    "\n",
    "matches.head()"
   ]
  },
  {
   "cell_type": "markdown",
   "metadata": {},
   "source": [
    "### 2. Zjistěte jaké datové typy mají všechny sloupečky, zda data set obsahuje nějaké NaN hodnoty a jaké jsou základní statistiky číselných sloupců."
   ]
  },
  {
   "cell_type": "code",
   "execution_count": null,
   "metadata": {},
   "outputs": [],
   "source": [
    "matches.info()"
   ]
  },
  {
   "cell_type": "code",
   "execution_count": null,
   "metadata": {},
   "outputs": [],
   "source": [
    "matches.describe().transpose()"
   ]
  },
  {
   "cell_type": "markdown",
   "metadata": {},
   "source": [
    "### 3. Zjistěte kolik různých týmů hraje anglickou ligu? Jaké týmy to jsou?"
   ]
  },
  {
   "cell_type": "code",
   "execution_count": null,
   "metadata": {},
   "outputs": [],
   "source": [
    "teams = matches.HomeTeam.unique().tolist()\n",
    "teams"
   ]
  },
  {
   "cell_type": "code",
   "execution_count": null,
   "metadata": {},
   "outputs": [],
   "source": [
    "len(teams)"
   ]
  },
  {
   "cell_type": "markdown",
   "metadata": {},
   "source": [
    "### 4. Přidejte sloupečky `HomeShotAccuracy` a `AwayShotAccuracy`, které říkají jaké procento střeleckých pokusů (Shots) nakonec mířilo na bránu (ShotsTarget). Vizualizujte rozdělení hodnot obou sloupců."
   ]
  },
  {
   "cell_type": "code",
   "execution_count": null,
   "metadata": {},
   "outputs": [],
   "source": [
    "plt.rcParams['figure.figsize'] = (24, 6)  # redefine the default size of the plots\n",
    "plt.style.use('ggplot')  # redefine default color scheme\n",
    "\n"
   ]
  },
  {
   "cell_type": "code",
   "execution_count": null,
   "metadata": {},
   "outputs": [],
   "source": [
    "def shot_accuracy(shots: pd.Series, shots_on_target: pd.Series) -> pd.Series:\n",
    "    return shots_on_target / shots * 100\n",
    "\n",
    "matches['HomeShotAccuracy'] = shot_accuracy(matches.HomeShots, matches.HomeShotsTarget)\n",
    "matches['AwayShotAccuracy'] = shot_accuracy(matches.AwayShots, matches.AwayShotsTarget)\n",
    "\n",
    "matches[['HomeShots', 'HomeShotsTarget', 'HomeShotAccuracy', 'AwayShotAccuracy']].head()"
   ]
  },
  {
   "cell_type": "code",
   "execution_count": null,
   "metadata": {},
   "outputs": [],
   "source": [
    "matches['HomeShotAccuracy'].plot.hist(title='Home team shot accuracy distribution');\n",
    "plt.show()\n",
    "matches['AwayShotAccuracy'].plot.hist(title='Away team shot accuracy distribution', color='steelblue');"
   ]
  },
  {
   "cell_type": "code",
   "execution_count": null,
   "metadata": {},
   "outputs": [],
   "source": [
    "matches[['HomeShotAccuracy', 'AwayShotAccuracy']].plot.box(title='Shot accuracy distribution', figsize=(24, 10));\n",
    "plt.ylabel('Accuracy [%]');"
   ]
  },
  {
   "cell_type": "markdown",
   "metadata": {},
   "source": [
    "### 5. Vytvořte sloupeček `FullTimeWinner`, který obsahuje:\n",
    "\n",
    "- `H`, pokud zvítězil `HomeTeam`\n",
    "- `A`, pokud zvítězil `AwayTeam`\n",
    "- `D`, pokud zápas skončil remízou\n",
    "\n",
    "**Poznámka: Zatím neznáme apply, ale známe loc. Použijte tedy šikovně loc.** "
   ]
  },
  {
   "cell_type": "code",
   "execution_count": null,
   "metadata": {},
   "outputs": [],
   "source": [
    "matches['FullTimeWinner'] = 'D'\n",
    "\n",
    "is_home_winner = matches.FullTimeHomeGoals > matches.FullTimeAwayGoals\n",
    "is_away_winner = matches.FullTimeHomeGoals < matches.FullTimeAwayGoals\n",
    "\n",
    "matches.loc[is_home_winner, 'FullTimeWinner'] = 'H'\n",
    "matches.loc[is_away_winner, 'FullTimeWinner'] = 'A'\n",
    "\n",
    "matches[['FullTimeHomeGoals', 'FullTimeAwayGoals', 'FullTimeWinner']].head(10)"
   ]
  },
  {
   "cell_type": "markdown",
   "metadata": {},
   "source": [
    "### 6. Řekněme, že nás zajímá tým West Ham. Zjistětě, kolik průměrně vsítí gólů v domácích zápasech, které vyhraje a kolik v domácích zápasech, které prohraje."
   ]
  },
  {
   "cell_type": "code",
   "execution_count": null,
   "metadata": {},
   "outputs": [],
   "source": [
    "selected_team = 'West Ham'\n",
    "\n",
    "is_team_home_match = matches.HomeTeam == selected_team\n",
    "is_home_team_win = matches.FullTimeWinner == 'H'\n",
    "\n",
    "win_goals_mean = matches.loc[is_team_home_match & is_home_team_win, 'FullTimeHomeGoals'].mean()\n",
    "lost_goals_mean = matches.loc[is_team_home_match & ~is_home_team_win, 'FullTimeHomeGoals'].mean()\n",
    "\n",
    "f\"Mean of goals scored during home victory: {win_goals_mean:.2f}, defeat: {lost_goals_mean:.2f}\""
   ]
  },
  {
   "cell_type": "markdown",
   "metadata": {},
   "source": [
    "## Cvičení 2 - pokračování\n",
    "\n",
    "Procvičme si nyní složitější Pandas úlohy.\n",
    "\n",
    "### 7. Jaký je median faulů, střel na branku a vstřelených gólů West Ham pro předchozích pět domácích zápasů? Jak se tyto statistiky vyvíjí v čase? Vizualizujte je."
   ]
  },
  {
   "cell_type": "code",
   "execution_count": null,
   "metadata": {},
   "outputs": [],
   "source": []
  },
  {
   "cell_type": "code",
   "execution_count": null,
   "metadata": {
    "tags": [
     "solution"
    ]
   },
   "outputs": [],
   "source": [
    "# TODO: Implement your solution."
   ]
  },
  {
   "cell_type": "markdown",
   "metadata": {},
   "source": [
    "### 8. Je domácí prostředí výhodou?\n",
    "\n",
    "**Poznámka: Součástí řešení je zamyslet se, jakou formou tuto otázku zodpovědět a jaké předpoklady si mohu dovolit udělat.** "
   ]
  },
  {
   "cell_type": "code",
   "execution_count": null,
   "metadata": {},
   "outputs": [],
   "source": []
  },
  {
   "cell_type": "code",
   "execution_count": null,
   "metadata": {
    "tags": [
     "solution"
    ]
   },
   "outputs": [],
   "source": [
    "# TODO: Implement your solution."
   ]
  },
  {
   "cell_type": "markdown",
   "metadata": {},
   "source": [
    "### 9. Kolik který rozhodčí odpískal za sezónu průměrně faulů za zápas? Seřaďte je od těch nejpřísnějších."
   ]
  },
  {
   "cell_type": "code",
   "execution_count": null,
   "metadata": {},
   "outputs": [],
   "source": []
  },
  {
   "cell_type": "code",
   "execution_count": null,
   "metadata": {
    "tags": [
     "solution"
    ]
   },
   "outputs": [],
   "source": [
    "# TODO: Implement your solution."
   ]
  },
  {
   "cell_type": "markdown",
   "metadata": {},
   "source": [
    "### 10. A) Budu víc vyhrávat, když budu víc faulovat?\n",
    "### 10. B) Platí stará fotbalová moudrost, že kdo nestřílí, nevyhraje? Tzn. je rozdíl mezi střelbou - a střelbou na bránu - u vítězných a poražených týmů?"
   ]
  },
  {
   "cell_type": "code",
   "execution_count": null,
   "metadata": {},
   "outputs": [],
   "source": []
  },
  {
   "cell_type": "code",
   "execution_count": null,
   "metadata": {
    "tags": [
     "solution"
    ]
   },
   "outputs": [],
   "source": [
    "# TODO: Implement your solution."
   ]
  },
  {
   "cell_type": "markdown",
   "metadata": {},
   "source": [
    "### 11. Který den v týdnu mám jít na zápas, když chci vidět hodně gólů?\n",
    "\n"
   ]
  },
  {
   "cell_type": "code",
   "execution_count": null,
   "metadata": {},
   "outputs": [],
   "source": [
    "matches.head()"
   ]
  },
  {
   "cell_type": "code",
   "execution_count": null,
   "metadata": {
    "scrolled": false,
    "tags": [
     "solution"
    ]
   },
   "outputs": [],
   "source": [
    "# TODO: Implement your solution."
   ]
  },
  {
   "cell_type": "markdown",
   "metadata": {},
   "source": [
    "### 12. Naškálujte rozsah hodnot vstřelených gólů během jednotlivých dnů v týdnu na hodnoty z intervalu <0;1>, kde 0 představuje minimum a 1 maximum."
   ]
  },
  {
   "cell_type": "code",
   "execution_count": null,
   "metadata": {},
   "outputs": [],
   "source": []
  },
  {
   "cell_type": "code",
   "execution_count": null,
   "metadata": {
    "tags": [
     "solution"
    ]
   },
   "outputs": [],
   "source": [
    "# TODO: Implement your solution."
   ]
  },
  {
   "cell_type": "code",
   "execution_count": null,
   "metadata": {},
   "outputs": [],
   "source": []
  }
 ],
 "metadata": {
  "kernelspec": {
   "display_name": "Python 3",
   "language": "python",
   "name": "python3"
  },
  "language_info": {
   "codemirror_mode": {
    "name": "ipython",
    "version": 3
   },
   "file_extension": ".py",
   "mimetype": "text/x-python",
   "name": "python",
   "nbconvert_exporter": "python",
   "pygments_lexer": "ipython3",
   "version": "3.7.3"
  }
 },
 "nbformat": 4,
 "nbformat_minor": 2
}
