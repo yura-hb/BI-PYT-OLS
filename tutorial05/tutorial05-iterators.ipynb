{
 "cells": [
  {
   "cell_type": "markdown",
   "metadata": {},
   "source": [
    "# Iterátory"
   ]
  },
  {
   "cell_type": "markdown",
   "metadata": {},
   "source": [
    "## 1. Napište (konečný) iterátor pro průchod po prvcích řetězce (aneb vlastně zduplikujte funkcionalitu, která je v Python'u automaticky přítomná v rámci smyčky for-in nad řetězci)."
   ]
  },
  {
   "cell_type": "code",
   "execution_count": 7,
   "metadata": {
    "tags": [
     "solution"
    ]
   },
   "outputs": [],
   "source": [
    "# TODO: Implement your solution.\n",
    "class NextChar:\n",
    "    def __init__(self, s = ''):\n",
    "        self.s = s\n",
    "        \n",
    "    def __iter__(self):\n",
    "        self.n = 0\n",
    "        return self\n",
    "    \n",
    "    def __next__(self):\n",
    "        if self.n < len(self.s):\n",
    "            self.n += 1\n",
    "            return self.s[self.n-1]\n",
    "        else:\n",
    "            raise StopIteration"
   ]
  },
  {
   "cell_type": "code",
   "execution_count": 10,
   "metadata": {},
   "outputs": [
    {
     "name": "stdout",
     "output_type": "stream",
     "text": [
      "A\n",
      "h\n",
      "o\n",
      "j\n",
      "!\n"
     ]
    }
   ],
   "source": [
    "it = NextChar('Ahoj!')\n",
    "for char in it:\n",
    "    print(char)"
   ]
  },
  {
   "cell_type": "markdown",
   "metadata": {},
   "source": [
    "## 2. Napište (nekonečný) iterátor vracející postupně všechna lichá čísla v řadě 1, 3, 5…"
   ]
  },
  {
   "cell_type": "code",
   "execution_count": 12,
   "metadata": {
    "tags": [
     "solution"
    ]
   },
   "outputs": [],
   "source": [
    "# TODO: Implement your solution.\n",
    "class LichaCisla:\n",
    "    def __iter__(self):\n",
    "        self.n = 1\n",
    "        return self\n",
    "    \n",
    "    def __next__(self):\n",
    "        self.n += 2\n",
    "        return self.n - 2"
   ]
  },
  {
   "cell_type": "code",
   "execution_count": 13,
   "metadata": {},
   "outputs": [
    {
     "name": "stdout",
     "output_type": "stream",
     "text": [
      "1\n",
      "3\n",
      "5\n"
     ]
    }
   ],
   "source": [
    "lc = LichaCisla()\n",
    "it = iter(lc)\n",
    "print(next(it))\n",
    "print(next(it))\n",
    "print(next(it))"
   ]
  },
  {
   "cell_type": "markdown",
   "metadata": {},
   "source": [
    "## 3. Napište iterátor pro výpis vlastností objektu, tj. napište generátor, který projde výpis volání funkce dir na příslušný objekt.\n",
    "\n",
    "##### Nápověda\n",
    "\n",
    "Funkce `dir()` vrací vlastnosti objektu jako seznam řetězců. Pochopitelně konečný."
   ]
  },
  {
   "cell_type": "code",
   "execution_count": 16,
   "metadata": {
    "tags": [
     "solution"
    ]
   },
   "outputs": [],
   "source": [
    "# TODO: Implement your solution.\n",
    "class Vlastnosti:\n",
    "    def __init__(self, item):\n",
    "        self.item = dir(item)\n",
    "        \n",
    "    def __iter__(self):\n",
    "        self.n = 0\n",
    "        return self\n",
    "    \n",
    "    def __next__(self):\n",
    "        if self.n < len(self.item):\n",
    "            self.n += 1\n",
    "            return self.item[self.n-1]\n",
    "        else:\n",
    "            raise StopIteration"
   ]
  },
  {
   "cell_type": "code",
   "execution_count": 17,
   "metadata": {},
   "outputs": [
    {
     "name": "stdout",
     "output_type": "stream",
     "text": [
      "__add__\n",
      "__class__\n",
      "__contains__\n",
      "__delattr__\n",
      "__delitem__\n",
      "__dir__\n",
      "__doc__\n",
      "__eq__\n",
      "__format__\n",
      "__ge__\n",
      "__getattribute__\n",
      "__getitem__\n",
      "__gt__\n",
      "__hash__\n",
      "__iadd__\n",
      "__imul__\n",
      "__init__\n",
      "__init_subclass__\n",
      "__iter__\n",
      "__le__\n",
      "__len__\n",
      "__lt__\n",
      "__mul__\n",
      "__ne__\n",
      "__new__\n",
      "__reduce__\n",
      "__reduce_ex__\n",
      "__repr__\n",
      "__reversed__\n",
      "__rmul__\n",
      "__setattr__\n",
      "__setitem__\n",
      "__sizeof__\n",
      "__str__\n",
      "__subclasshook__\n",
      "append\n",
      "clear\n",
      "copy\n",
      "count\n",
      "extend\n",
      "index\n",
      "insert\n",
      "pop\n",
      "remove\n",
      "reverse\n",
      "sort\n"
     ]
    }
   ],
   "source": [
    "it = Vlastnosti([])\n",
    "for v in it:\n",
    "    print(v)"
   ]
  },
  {
   "cell_type": "markdown",
   "metadata": {},
   "source": [
    "## 4. Napište iterátor `izip`, který aggreguje hodnoty každého z daných iterátorů stejně jako `zip`. Narozdíl od `zip` ale bude vracet iterátor."
   ]
  },
  {
   "cell_type": "code",
   "execution_count": 20,
   "metadata": {
    "tags": [
     "solution"
    ]
   },
   "outputs": [],
   "source": [
    "# TODO: Implement your solution.\n",
    "class izip:\n",
    "    def __init__(self, iter1, iter2):\n",
    "        self.iter1 = iter1\n",
    "        self.iter2 = iter2\n",
    "        \n",
    "    def __iter__(self):\n",
    "        return self\n",
    "    \n",
    "    def __next__(self):\n",
    "        try:\n",
    "            return (next(self.iter1), next(self.iter2))\n",
    "        except:\n",
    "            raise StopIteration"
   ]
  },
  {
   "cell_type": "code",
   "execution_count": 21,
   "metadata": {},
   "outputs": [
    {
     "name": "stdout",
     "output_type": "stream",
     "text": [
      "0 10\n",
      "1 11\n",
      "2 12\n",
      "3 13\n",
      "4 15\n",
      "5 15\n"
     ]
    }
   ],
   "source": [
    "for x, y in izip(iter([0,1,2,3,4,5]), iter([10,11,12,13,15,15])):\n",
    "    print(x, y)"
   ]
  },
  {
   "cell_type": "markdown",
   "metadata": {},
   "source": [
    "## 5. Napište iterátor `izip_longest`, který bere iterátory různé délky a pro kratší iterátory zarovnává iterables pomocí předvolené hodnoty."
   ]
  },
  {
   "cell_type": "code",
   "execution_count": 45,
   "metadata": {
    "tags": [
     "solution"
    ]
   },
   "outputs": [],
   "source": [
    "# TODO: Implement your solution.\n",
    "class izip_longest:\n",
    "    def __init__(self, value, *args):\n",
    "        self.value = value\n",
    "        self.iters = args\n",
    "        \n",
    "    def __iter__(self):\n",
    "        return self\n",
    "    \n",
    "    def __next__(self):\n",
    "        \n",
    "        failedCount = 0\n",
    "        values = []\n",
    "        \n",
    "        for it in self.iters:\n",
    "            try:\n",
    "                values += [next(it)]\n",
    "            except:\n",
    "                failedCount += 1\n",
    "                values += [self.value]\n",
    "        \n",
    "        if failedCount == len(self.iters):\n",
    "            raise StopIteration\n",
    "        return tuple(values)"
   ]
  },
  {
   "cell_type": "code",
   "execution_count": 46,
   "metadata": {},
   "outputs": [
    {
     "name": "stdout",
     "output_type": "stream",
     "text": [
      "0 10 100\n",
      "1 11 101\n",
      "2 12 102\n",
      "3 13 103\n",
      "4 -1 104\n",
      "5 -1 -1\n"
     ]
    }
   ],
   "source": [
    "for x, y, z in izip_longest(-1, iter([0,1,2,3,4,5]), iter([10,11,12,13]), iter([100,101,102,103,104])):\n",
    "    print(x, y, z)"
   ]
  },
  {
   "cell_type": "markdown",
   "metadata": {},
   "source": [
    "## 6. Napište iterátor, který vrací nejvýše N prvků existujícího iterátoru\n",
    "\n",
    "Pokud bude zdrojový iterátor vracet méně prvků než N, korektně ukončete iteraci."
   ]
  },
  {
   "cell_type": "code",
   "execution_count": 20,
   "metadata": {
    "tags": [
     "solution"
    ]
   },
   "outputs": [],
   "source": [
    "# TODO: Implement your solution."
   ]
  },
  {
   "cell_type": "code",
   "execution_count": 21,
   "metadata": {},
   "outputs": [
    {
     "name": "stdout",
     "output_type": "stream",
     "text": [
      "[0, 1, 2, 3, 4]\n",
      "[0, 1, 2]\n"
     ]
    }
   ],
   "source": [
    "print(list(iterate_upto(iter(range(10)), 5)))\n",
    "print(list(iterate_upto(iter(range(3)), 5)))"
   ]
  },
  {
   "cell_type": "markdown",
   "metadata": {},
   "source": [
    "## 7. Napište iterátor, který spojí libovolný počet existujících iterátorů\n",
    "\n",
    "Tj. nejdříve vrátí všechny prvky prvního generátoru, pak druhého, atd."
   ]
  },
  {
   "cell_type": "code",
   "execution_count": 41,
   "metadata": {
    "tags": [
     "solution"
    ]
   },
   "outputs": [],
   "source": [
    "# TODO: Implement your solution."
   ]
  },
  {
   "cell_type": "code",
   "execution_count": 45,
   "metadata": {},
   "outputs": [
    {
     "name": "stdout",
     "output_type": "stream",
     "text": [
      "[1, 2, 3, 4, 5, 6, 7, 8, 9]\n",
      "[1, 2, 3]\n",
      "[]\n"
     ]
    }
   ],
   "source": [
    "print(list(chain(iter([1, 2, 3]), iter([4, 5, 6]), iter([7, 8, 9]))))\n",
    "print(list(chain(iter([1, 2, 3]))))\n",
    "print(list(chain()))"
   ]
  }
 ],
 "metadata": {
  "kernelspec": {
   "display_name": "Python 3",
   "language": "python",
   "name": "python3"
  },
  "language_info": {
   "codemirror_mode": {
    "name": "ipython",
    "version": 3
   },
   "file_extension": ".py",
   "mimetype": "text/x-python",
   "name": "python",
   "nbconvert_exporter": "python",
   "pygments_lexer": "ipython3",
   "version": "3.8.1"
  }
 },
 "nbformat": 4,
 "nbformat_minor": 2
}
