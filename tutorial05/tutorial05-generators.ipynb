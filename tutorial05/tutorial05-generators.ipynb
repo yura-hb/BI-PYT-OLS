{
 "cells": [
  {
   "cell_type": "markdown",
   "metadata": {},
   "source": [
    "# Generátory"
   ]
  },
  {
   "cell_type": "code",
   "execution_count": 1,
   "metadata": {},
   "outputs": [],
   "source": [
    "# Print values of all statements in each cell\n",
    "from IPython.core.interactiveshell import InteractiveShell\n",
    "InteractiveShell.ast_node_interactivity = \"all\""
   ]
  },
  {
   "cell_type": "markdown",
   "metadata": {},
   "source": [
    "### 1. Napište (konečný) _generátor_ pro průchod po prvcích řetězce.\n",
    "\n",
    "Aneb vlastně zduplikujte funkcionalitu, která je v Python'u automaticky přítomná v rámci smyčky for-in nad řetězci."
   ]
  },
  {
   "cell_type": "code",
   "execution_count": 41,
   "metadata": {
    "tags": [
     "solution"
    ]
   },
   "outputs": [],
   "source": [
    "# TODO: Implement your solution.\n",
    "def generate_letters(s):\n",
    "    for i in s:\n",
    "        yield i\n",
    "    "
   ]
  },
  {
   "cell_type": "code",
   "execution_count": 42,
   "metadata": {
    "tags": [
     "raises-exception"
    ]
   },
   "outputs": [
    {
     "ename": "StopIteration",
     "evalue": "",
     "output_type": "error",
     "traceback": [
      "\u001b[0;31m---------------------------------------------------------------------------\u001b[0m",
      "\u001b[0;31mStopIteration\u001b[0m                             Traceback (most recent call last)",
      "\u001b[0;32m<ipython-input-42-b53b4b01c9b2>\u001b[0m in \u001b[0;36m<module>\u001b[0;34m\u001b[0m\n\u001b[1;32m      6\u001b[0m \u001b[0;34m\u001b[0m\u001b[0m\n\u001b[1;32m      7\u001b[0m \u001b[0;31m# Konec generátoru - další volání vyhodí StopIteration\u001b[0m\u001b[0;34m\u001b[0m\u001b[0;34m\u001b[0m\u001b[0;34m\u001b[0m\u001b[0m\n\u001b[0;32m----> 8\u001b[0;31m \u001b[0mnext\u001b[0m\u001b[0;34m(\u001b[0m\u001b[0mg\u001b[0m\u001b[0;34m)\u001b[0m\u001b[0;34m\u001b[0m\u001b[0;34m\u001b[0m\u001b[0m\n\u001b[0m",
      "\u001b[0;31mStopIteration\u001b[0m: "
     ]
    }
   ],
   "source": [
    "g = generate_letters(\"Baf!\")\n",
    "next(g)\n",
    "next(g)\n",
    "next(g)\n",
    "next(g)\n",
    "\n",
    "# Konec generátoru - další volání vyhodí StopIteration\n",
    "next(g)"
   ]
  },
  {
   "cell_type": "markdown",
   "metadata": {},
   "source": [
    "### 2. Napište (nekonečný) _generátor_ vracející postupně všechna lichá čísla v řadě 1, 3, 5…"
   ]
  },
  {
   "cell_type": "code",
   "execution_count": 16,
   "metadata": {
    "tags": [
     "solution"
    ]
   },
   "outputs": [],
   "source": [
    "# TODO: Implement your solution.\n",
    "def generate_odd():\n",
    "    i = 1\n",
    "    while True:\n",
    "        yield i\n",
    "        i += 2"
   ]
  },
  {
   "cell_type": "code",
   "execution_count": 18,
   "metadata": {},
   "outputs": [
    {
     "data": {
      "text/plain": [
       "7"
      ]
     },
     "execution_count": 18,
     "metadata": {},
     "output_type": "execute_result"
    }
   ],
   "source": [
    "g = generate_odd()\n",
    "next(g)\n",
    "next(g)\n",
    "next(g)\n",
    "next(g)\n"
   ]
  },
  {
   "cell_type": "markdown",
   "metadata": {},
   "source": [
    "### 3. Napište _generátor_ pro výpis vlastností objektu.\n",
    "\n",
    "Tj. napište generátor, který projde výpis volání funkce `dir` na příslušný objekt.\n",
    "\n",
    "**Hint**: Funkce `dir()` vrací vlastnosti objektu jako seznam řetězců. Pochopitelně konečný."
   ]
  },
  {
   "cell_type": "code",
   "execution_count": 34,
   "metadata": {
    "tags": [
     "solution"
    ]
   },
   "outputs": [],
   "source": [
    "# TODO: Implement your solution.\n",
    "def generate_attributes(path):\n",
    "    result = dir(path)\n",
    "    for i in result:\n",
    "        yield i"
   ]
  },
  {
   "cell_type": "code",
   "execution_count": 33,
   "metadata": {},
   "outputs": [
    {
     "data": {
      "text/plain": [
       "['__delattr__',\n",
       " '__dir__',\n",
       " '__doc__',\n",
       " '__eq__',\n",
       " '__format__',\n",
       " '__ge__',\n",
       " '__getattribute__',\n",
       " '__gt__',\n",
       " '__hash__',\n",
       " '__init__']"
      ]
     },
     "execution_count": 33,
     "metadata": {},
     "output_type": "execute_result"
    }
   ],
   "source": [
    "g = generate_attributes(None)\n",
    "next(g)\n",
    "next(g)\n",
    "list(g)[:10]"
   ]
  },
  {
   "cell_type": "markdown",
   "metadata": {},
   "source": [
    "### 4. Napište generátor, který vrací nejvýše N prvků existujícího generátoru\n",
    "\n",
    "Pokud bude zdrojový generátor vracet méně prvků než *N*, korektně ukončete iteraci.\n",
    "\n",
    "**Hint**: Dejte si pozor, aby vaše implementace fungovala správně i pro **nekonečné** generátory. "
   ]
  },
  {
   "cell_type": "code",
   "execution_count": 43,
   "metadata": {
    "tags": [
     "solution"
    ]
   },
   "outputs": [],
   "source": [
    "# TODO: Implement your solution.\n",
    "\n",
    "def generate_upto(gen, n):\n",
    "    i = 0;\n",
    "    while (i < n):\n",
    "        try:\n",
    "            yield next(gen)\n",
    "            i += 1\n",
    "        except StopIteration:\n",
    "            break\n"
   ]
  },
  {
   "cell_type": "code",
   "execution_count": 45,
   "metadata": {},
   "outputs": [
    {
     "name": "stdout",
     "output_type": "stream",
     "text": [
      "['E', 'g', 'g', ' ', 'b', 'e', 'a', 'n', 's']\n",
      "['B', 'O', 'O']\n",
      "[1, 3, 5, 7, 9, 11, 13, 15, 17, 19]\n"
     ]
    }
   ],
   "source": [
    "print(list(generate_upto(generate_letters(\"Egg beans SPAM\"), 9)))\n",
    "print(list(generate_upto(generate_letters(\"BOO\"), 10)))\n",
    "print(list(generate_upto(generate_odd(), 10)))"
   ]
  },
  {
   "cell_type": "markdown",
   "metadata": {},
   "source": [
    "### 5. Napište generátor, který spojí libovolný počet existujících generátorů\n",
    "\n",
    "Tj. nejdříve vrátí všechny prvky prvního generátoru, pak druhého, atd."
   ]
  },
  {
   "cell_type": "code",
   "execution_count": 66,
   "metadata": {
    "tags": [
     "solution"
    ]
   },
   "outputs": [],
   "source": [
    "# TODO: Implement your solution.\n",
    "def generator_chain(*args):\n",
    "    for i in args:\n",
    "        gen = i\n",
    "        while True:\n",
    "            try:\n",
    "                yield next(gen)\n",
    "            except StopIteration:\n",
    "                break\n"
   ]
  },
  {
   "cell_type": "code",
   "execution_count": 67,
   "metadata": {},
   "outputs": [
    {
     "name": "stdout",
     "output_type": "stream",
     "text": [
      "[0, 1, 2, 3, 4, 5, 4, 3, 2, 1, 0, 1, 2, 3]\n"
     ]
    }
   ],
   "source": [
    "g1 = (i for i in range(6))\n",
    "g2 = (i for i in range(4, 0, -1))\n",
    "g3 = (i for i in range(4))\n",
    "\n",
    "print(list(generator_chain(g1, g2, g3)))"
   ]
  },
  {
   "cell_type": "code",
   "execution_count": null,
   "metadata": {},
   "outputs": [],
   "source": []
  }
 ],
 "metadata": {
  "kernelspec": {
   "display_name": "Python 3",
   "language": "python",
   "name": "python3"
  },
  "language_info": {
   "codemirror_mode": {
    "name": "ipython",
    "version": 3
   },
   "file_extension": ".py",
   "mimetype": "text/x-python",
   "name": "python",
   "nbconvert_exporter": "python",
   "pygments_lexer": "ipython3",
   "version": "3.8.1"
  }
 },
 "nbformat": 4,
 "nbformat_minor": 2
}
