{
 "cells": [
  {
   "cell_type": "markdown",
   "metadata": {},
   "source": [
    "# Náhoda a pravděpodobnost"
   ]
  },
  {
   "cell_type": "markdown",
   "metadata": {},
   "source": [
    "### 1. Pokuste se pomocí metody Monte Carlo aproximovat číslo π následujícím způsobem: Vepíšete-li čtverci o straně 1 čtvrtkruh (část kruhu se středem v jednom z rohů čtverce), bude obsah tohoto čtvrtkruhu π/4. Budete-li nyní náhodně generovat body o souřadnicích spadajících do čtverce, je pravděpodobnost π/4, že se trefíte do čtvrtkruhu.\n",
    "\n",
    "**Note:** Metoda je to nepřekvapivě velmi nepřesná a pomalá – pro jakékoliv rozumnější přiblížení k hledanému číslu π musíte provést velkou spoustu pokusů. (Kolik tak asi?)\n",
    "\n",
    "**Hint:** `random.random()`"
   ]
  },
  {
   "cell_type": "code",
   "execution_count": 1,
   "metadata": {
    "tags": [
     "solution"
    ]
   },
   "outputs": [
    {
     "name": "stdout",
     "output_type": "stream",
     "text": [
      "Sada   1 : 3.13756\n",
      "Sada   2 : 3.1345400000000003\n",
      "Sada   3 : 3.1391066666666667\n",
      "Sada   4 : 3.14059\n",
      "Sada   5 : 3.13936\n",
      "Sada   6 : 3.1390466666666668\n",
      "Sada   7 : 3.139634285714286\n",
      "Sada   8 : 3.14006\n",
      "Sada   9 : 3.1408133333333335\n",
      "Sada  10 : 3.1405640000000004\n",
      "Sada  11 : 3.140389090909091\n",
      "Sada  12 : 3.14081\n",
      "Sada  13 : 3.140858461538462\n",
      "Sada  14 : 3.1406285714285715\n",
      "Sada  15 : 3.140536\n",
      "Sada  16 : 3.140835\n",
      "Sada  17 : 3.141409411764706\n",
      "Sada  18 : 3.141328888888889\n",
      "Sada  19 : 3.141656842105263\n",
      "Sada  20 : 3.141324\n",
      "Sada  21 : 3.141386666666667\n",
      "Sada  22 : 3.1418290909090913\n",
      "Sada  23 : 3.141873043478262\n",
      "Sada  24 : 3.141900000000001\n",
      "Sada  25 : 3.141822400000001\n",
      "Sada  26 : 3.1418784615384627\n",
      "Sada  27 : 3.1418014814814823\n",
      "Sada  28 : 3.1419214285714294\n",
      "Sada  29 : 3.1419227586206904\n",
      "Sada  30 : 3.1421200000000007\n",
      "Sada  31 : 3.141610322580646\n",
      "Sada  32 : 3.141676250000001\n",
      "Sada  33 : 3.14141090909091\n",
      "Sada  34 : 3.1416223529411775\n",
      "Sada  35 : 3.1416194285714294\n",
      "Sada  36 : 3.14181888888889\n",
      "Sada  37 : 3.1418464864864872\n",
      "Sada  38 : 3.142100000000001\n",
      "Sada  39 : 3.1419220512820525\n",
      "Sada  40 : 3.142093000000001\n",
      "Sada  41 : 3.1422048780487812\n",
      "Sada  42 : 3.142308571428572\n",
      "Sada  43 : 3.1421860465116285\n",
      "Sada  44 : 3.1422763636363644\n",
      "Sada  45 : 3.1421591111111122\n",
      "Sada  46 : 3.1420913043478267\n",
      "Sada  47 : 3.1421957446808517\n",
      "Sada  48 : 3.1421941666666675\n",
      "Sada  49 : 3.1421853061224496\n",
      "Sada  50 : 3.142185600000001\n",
      "Sada  51 : 3.142347450980393\n",
      "Sada  52 : 3.1422015384615394\n",
      "Sada  53 : 3.1422475471698124\n",
      "Sada  54 : 3.1422577777777785\n",
      "Sada  55 : 3.142224000000001\n",
      "Sada  56 : 3.142340000000001\n",
      "Sada  57 : 3.1423242105263163\n",
      "Sada  58 : 3.1422013793103454\n",
      "Sada  59 : 3.1421518644067805\n",
      "Sada  60 : 3.142098000000001\n",
      "Sada  61 : 3.142063606557378\n",
      "Sada  62 : 3.1419264516129037\n",
      "Sada  63 : 3.141749206349207\n",
      "Sada  64 : 3.1417268750000007\n",
      "Sada  65 : 3.141685538461539\n",
      "Sada  66 : 3.1416042424242434\n",
      "Sada  67 : 3.1416125373134336\n",
      "Sada  68 : 3.14171705882353\n",
      "Sada  69 : 3.1417513043478267\n",
      "Sada  70 : 3.1418102857142864\n",
      "Sada  71 : 3.1418073239436626\n",
      "Sada  72 : 3.141650555555556\n",
      "Sada  73 : 3.141557260273973\n",
      "Sada  74 : 3.141502162162163\n",
      "Sada  75 : 3.1415210666666673\n",
      "Sada  76 : 3.1414631578947376\n",
      "Sada  77 : 3.1415631168831175\n",
      "Sada  78 : 3.141567692307693\n",
      "Sada  79 : 3.1414405063291144\n",
      "Sada  80 : 3.141451500000001\n",
      "Sada  81 : 3.1416177777777787\n",
      "Sada  82 : 3.1415731707317085\n",
      "Sada  83 : 3.141497831325302\n",
      "Sada  84 : 3.14149761904762\n",
      "Sada  85 : 3.1414442352941183\n",
      "Sada  86 : 3.141420000000001\n",
      "Sada  87 : 3.1414441379310354\n",
      "Sada  88 : 3.141585000000001\n",
      "Sada  89 : 3.141526741573035\n",
      "Sada  90 : 3.141591111111112\n",
      "Sada  91 : 3.1415459340659346\n",
      "Sada  92 : 3.1415304347826094\n",
      "Sada  93 : 3.1415277419354846\n",
      "Sada  94 : 3.1415174468085114\n",
      "Sada  95 : 3.1415254736842115\n",
      "Sada  96 : 3.141570000000001\n",
      "Sada  97 : 3.141538969072166\n",
      "Sada  98 : 3.141504897959184\n",
      "Sada  99 : 3.141628686868687\n",
      "Sada 100 : 3.1415856000000004\n"
     ]
    }
   ],
   "source": [
    "# TODO: Implement your solution."
   ]
  },
  {
   "cell_type": "markdown",
   "metadata": {},
   "source": [
    "### 2. Když už jste v tom, zkuste metodou Monte Carlo spočítat nějaký klasický známý určitý integrál, kupříkladu pro funkci sin(x) v intervalu <0, 2π>."
   ]
  },
  {
   "cell_type": "code",
   "execution_count": null,
   "metadata": {
    "tags": [
     "solution"
    ]
   },
   "outputs": [],
   "source": [
    "# TODO: Implement your solution."
   ]
  },
  {
   "cell_type": "markdown",
   "metadata": {},
   "source": [
    "### 3. Další pěknou aplikací náhody jsou tzv. náhodné procházky. Začneme naprostou klasikou – „opilcem“. Tato náhodná procházka je v nejjednodušším klasickém případě jednorozměrná:\n",
    "\n",
    "Opilec zpáteční cestou z hospody, která je n kroků od jeho domova, dorazil již na pole vzdálené k kroků od domova. Zde se ovšem zaškobrtl a začal padat. Sice se po každém kroku a pádu zase zvedne, ale zcela ztratil pojem o směru, jen ho jeden z nich táhne více než druhý (s příslušnými pravděpodobnostmi p a 1-p). „Chudák“ takto padá a bloudí, až časem někde skončí. Bude to doma nebo zpátky v hospodě?\n",
    "\n",
    "Vyberte si vhodná čísla n, k a p a nasimulujte opilcovu cestu. Kolik kroků (a pádů) musí průměrně absolvovat, aby někam došel? Zaznamenejte jednotlivé pokusy v podobě vhodného logu. (Případná grafická reprezentace je na vás.)\n",
    "\n",
    "**Note:** Ačkoli má přinejmenším pro pobavení celkem smysl udělat nějakou grafickou reprezentaci, zajímavější je studium závislostí mezi veličinami n, k a p, pro které bohatě stačí jen provést spoustu různých číselných pokusů."
   ]
  },
  {
   "cell_type": "code",
   "execution_count": 2,
   "metadata": {
    "tags": [
     "solution"
    ]
   },
   "outputs": [
    {
     "name": "stdout",
     "output_type": "stream",
     "text": [
      "{(10, 0.1): (116, 'H'),\n",
      " (10, 0.2): (158, 'H'),\n",
      " (10, 0.3): (202, 'H'),\n",
      " (10, 0.4): (404, 'H'),\n",
      " (10, 0.5): (64, 'D'),\n",
      " (10, 0.6): (72, 'D'),\n",
      " (10, 0.7): (24, 'D'),\n",
      " (10, 0.8): (10, 'D'),\n",
      " (10, 0.9): (10, 'D'),\n",
      " (20, 0.1): (100, 'H'),\n",
      " (20, 0.2): (140, 'H'),\n",
      " (20, 0.3): (162, 'H'),\n",
      " (20, 0.4): (328, 'H'),\n",
      " (20, 0.5): (254, 'D'),\n",
      " (20, 0.6): (94, 'D'),\n",
      " (20, 0.7): (68, 'D'),\n",
      " (20, 0.8): (38, 'D'),\n",
      " (20, 0.9): (20, 'D'),\n",
      " (30, 0.1): (88, 'H'),\n",
      " (30, 0.2): (120, 'H'),\n",
      " (30, 0.3): (124, 'H'),\n",
      " (30, 0.4): (330, 'H'),\n",
      " (30, 0.5): (1388, 'H'),\n",
      " (30, 0.6): (70, 'D'),\n",
      " (30, 0.7): (60, 'D'),\n",
      " (30, 0.8): (48, 'D'),\n",
      " (30, 0.9): (34, 'D'),\n",
      " (40, 0.1): (70, 'H'),\n",
      " (40, 0.2): (100, 'H'),\n",
      " (40, 0.3): (160, 'H'),\n",
      " (40, 0.4): (264, 'H'),\n",
      " (40, 0.5): (2276, 'D'),\n",
      " (40, 0.6): (126, 'D'),\n",
      " (40, 0.7): (72, 'D'),\n",
      " (40, 0.8): (60, 'D'),\n",
      " (40, 0.9): (46, 'D'),\n",
      " (50, 0.1): (66, 'H'),\n",
      " (50, 0.2): (90, 'H'),\n",
      " (50, 0.3): (156, 'H'),\n",
      " (50, 0.4): (324, 'H'),\n",
      " (50, 0.5): (1378, 'H'),\n",
      " (50, 0.6): (290, 'D'),\n",
      " (50, 0.7): (106, 'D'),\n",
      " (50, 0.8): (88, 'D'),\n",
      " (50, 0.9): (58, 'D'),\n",
      " (60, 0.1): (44, 'H'),\n",
      " (60, 0.2): (78, 'H'),\n",
      " (60, 0.3): (104, 'H'),\n",
      " (60, 0.4): (276, 'H'),\n",
      " (60, 0.5): (1854, 'D'),\n",
      " (60, 0.6): (368, 'D'),\n",
      " (60, 0.7): (202, 'D'),\n",
      " (60, 0.8): (94, 'D'),\n",
      " (60, 0.9): (76, 'D'),\n",
      " (70, 0.1): (44, 'H'),\n",
      " (70, 0.2): (66, 'H'),\n",
      " (70, 0.3): (68, 'H'),\n",
      " (70, 0.4): (196, 'H'),\n",
      " (70, 0.5): (836, 'H'),\n",
      " (70, 0.6): (352, 'D'),\n",
      " (70, 0.7): (204, 'D'),\n",
      " (70, 0.8): (106, 'D'),\n",
      " (70, 0.9): (82, 'D'),\n",
      " (80, 0.1): (20, 'H'),\n",
      " (80, 0.2): (44, 'H'),\n",
      " (80, 0.3): (48, 'H'),\n",
      " (80, 0.4): (80, 'H'),\n",
      " (80, 0.5): (224, 'H'),\n",
      " (80, 0.6): (450, 'D'),\n",
      " (80, 0.7): (128, 'D'),\n",
      " (80, 0.8): (124, 'D'),\n",
      " (80, 0.9): (106, 'D'),\n",
      " (90, 0.1): (10, 'H'),\n",
      " (90, 0.2): (10, 'H'),\n",
      " (90, 0.3): (26, 'H'),\n",
      " (90, 0.4): (32, 'H'),\n",
      " (90, 0.5): (6710, 'D'),\n",
      " (90, 0.6): (596, 'D'),\n",
      " (90, 0.7): (304, 'D'),\n",
      " (90, 0.8): (158, 'D'),\n",
      " (90, 0.9): (124, 'D')}\n"
     ]
    }
   ],
   "source": [
    "# TODO: Implement your solution."
   ]
  },
  {
   "cell_type": "code",
   "execution_count": null,
   "metadata": {},
   "outputs": [],
   "source": []
  }
 ],
 "metadata": {
  "kernelspec": {
   "display_name": "Python 3",
   "language": "python",
   "name": "python3"
  },
  "language_info": {
   "codemirror_mode": {
    "name": "ipython",
    "version": 3
   },
   "file_extension": ".py",
   "mimetype": "text/x-python",
   "name": "python",
   "nbconvert_exporter": "python",
   "pygments_lexer": "ipython3",
   "version": "3.6.9"
  }
 },
 "nbformat": 4,
 "nbformat_minor": 2
}
