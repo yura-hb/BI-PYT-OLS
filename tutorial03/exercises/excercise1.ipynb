{
 "cells": [
  {
   "cell_type": "markdown",
   "metadata": {},
   "source": [
    "# Skokan do vody"
   ]
  },
  {
   "cell_type": "markdown",
   "metadata": {},
   "source": [
    "### 1. Vytvořte animaci skokana (tvořenou znaky \"|\\-/\") točícího se kolem své osy a postupně padajícího z horního okraje obrazovky (terminálu) ke spodnímu."
   ]
  },
  {
   "cell_type": "code",
   "execution_count": 1,
   "metadata": {
    "tags": [
     "solution"
    ]
   },
   "outputs": [
    {
     "name": "stdout",
     "output_type": "stream",
     "text": [
      "\u001b[?25l\u001b[2J\u001b[0;58f \u001b[1B\u001b[1D \u001b[1B\u001b[1D \u001b[1B\u001b[1D \u001b[1B\u001b[1D \u001b[1B\u001b[1D \u001b[1B\u001b[1D \u001b[1B\u001b[1D \u001b[1B\u001b[1D \u001b[1B\u001b[1D \u001b[1B\u001b[1D \u001b[1B\u001b[1D \u001b[1B\u001b[1D \u001b[1B\u001b[1D \u001b[1B\u001b[1D \u001b[1B\u001b[1D \u001b[1B\u001b[1D \u001b[1B\u001b[1D \u001b[1B\u001b[1D \u001b[1B\u001b[1D \u001b[1B\u001b[1D \u001b[1B\u001b[1D \u001b[1B\u001b[1D \u001b[1B\u001b[1D \u001b[1B\u001b[1D \u001b[1B\u001b[1D \u001b[1B\u001b[1D \u001b[1B\u001b[1D \u001b[1B\u001b[1D \u001b[1B\u001b[1D \u001b[1B\u001b[1D \u001b[1B\u001b[1D \u001b[1B\u001b[1D \u001b[1B\u001b[1D \u001b[1B\u001b[1D \u001b[1B\u001b[1D \u001b[1B\u001b[1D \u001b[1B\u001b[1D \u001b[1B\u001b[1D \u001b[1B\u001b[1D \u001b[1B\u001b[1D \u001b[1B\u001b[1D \u001b[1B\u001b[1D \u001b[1B\u001b[1D \u001b[1B\u001b[1D \u001b[1B\u001b[1D \u001b[1B\u001b[1D \u001b[1B\u001b[1D \u001b[1B\u001b[1D \u001b[1B\u001b[1D \u001b[1B\u001b[1D \u001b[1B\u001b[1D \u001b[1B\u001b[1D \u001b[1B\u001b[1D \u001b[1B\u001b[1D \u001b[1B\u001b[1D \u001b[1B\u001b[1D \u001b[1B\u001b[1D \u001b[1B\u001b[1D\u001b[0m 89\n",
      "\n",
      "\u001b[?25h"
     ]
    }
   ],
   "source": [
    "# TODO: Implement your solution."
   ]
  },
  {
   "cell_type": "markdown",
   "metadata": {},
   "source": [
    "### 2. Doplňte předchozí animaci o hladinu vody na poslední řádce terminálu (modrá řádka) a šplouchnutí po dopadu skokana do vody („vyšplíchnutí“ modré vody o řádku či dvě výše)."
   ]
  },
  {
   "cell_type": "code",
   "execution_count": null,
   "metadata": {
    "tags": [
     "solution"
    ]
   },
   "outputs": [],
   "source": [
    "# TODO: Implement your solution."
   ]
  },
  {
   "cell_type": "markdown",
   "metadata": {},
   "source": [
    "### 3. Doplňte předchozí program o synchronní ovládání rychlosti točení skokana a rychlosti jeho pádu pomocí klávesnice."
   ]
  },
  {
   "cell_type": "code",
   "execution_count": null,
   "metadata": {
    "tags": [
     "solution"
    ]
   },
   "outputs": [],
   "source": [
    "# TODO: Implement your solution."
   ]
  }
 ],
 "metadata": {
  "kernelspec": {
   "display_name": "Python 3",
   "language": "python",
   "name": "python3"
  },
  "language_info": {
   "codemirror_mode": {
    "name": "ipython",
    "version": 3
   },
   "file_extension": ".py",
   "mimetype": "text/x-python",
   "name": "python",
   "nbconvert_exporter": "python",
   "pygments_lexer": "ipython3",
   "version": "3.6.9"
  }
 },
 "nbformat": 4,
 "nbformat_minor": 2
}
