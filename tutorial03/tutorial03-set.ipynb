{
 "cells": [
  {
   "cell_type": "markdown",
   "metadata": {},
   "source": [
    "# Množiny (set)"
   ]
  },
  {
   "cell_type": "markdown",
   "metadata": {},
   "source": [
    "### 1. Zjistěte, jaké různé znaky se vyskytují v kratším textu. Přitom postupně:\n",
    "\n",
    "- uvažujte rozdíly mezi malými a velkými písmeny\n",
    "- **ne**uvažujte rozdíly mezi malými a velkými písmeny\n",
    "\n",
    "**Hint:** `set('')`"
   ]
  },
  {
   "cell_type": "code",
   "execution_count": 2,
   "metadata": {
    "pycharm": {
     "is_executing": false
    },
    "scrolled": true,
    "tags": [
     "solution"
    ]
   },
   "outputs": [
    {
     "data": {
      "text/plain": [
       "{' ',\n",
       " ',',\n",
       " '.',\n",
       " 'A',\n",
       " 'C',\n",
       " 'D',\n",
       " 'L',\n",
       " 'P',\n",
       " 'a',\n",
       " 'b',\n",
       " 'c',\n",
       " 'd',\n",
       " 'e',\n",
       " 'f',\n",
       " 'g',\n",
       " 'h',\n",
       " 'i',\n",
       " 'l',\n",
       " 'm',\n",
       " 'n',\n",
       " 'o',\n",
       " 'p',\n",
       " 'q',\n",
       " 'r',\n",
       " 's',\n",
       " 't',\n",
       " 'u',\n",
       " 'v'}"
      ]
     },
     "execution_count": 2,
     "metadata": {},
     "output_type": "execute_result"
    }
   ],
   "source": [
    "# TODO: Implement your solution.\n",
    "text = \"\"\n",
    "with open('set-example1.txt') as f:\n",
    "    text = f.read()\n",
    "    \n",
    "all_symbols = set(text)\n",
    "all_symbols"
   ]
  },
  {
   "cell_type": "markdown",
   "metadata": {},
   "source": [
    "### 2.  Zopakujte si předchozí analýzu na větším textu, ale tentokrát hledejte různá slova. Přitom postupně:\n",
    "\n",
    "- uvažujte rozdíly mezi malými a velkými písmeny\n",
    "- neuvažujte rozdíly mezi malými a velkými písmeny (tj. Auto = auto apod.)\n",
    "- odstraňte interpunkci (tj. auto, = auto apod.)\n",
    "\n",
    "**Hint:** `import string; string.punctuation`"
   ]
  },
  {
   "cell_type": "code",
   "execution_count": null,
   "metadata": {
    "pycharm": {
     "is_executing": false
    },
    "scrolled": true,
    "tags": [
     "solution"
    ]
   },
   "outputs": [],
   "source": [
    "# TODO: Implement your solution."
   ]
  },
  {
   "cell_type": "code",
   "execution_count": null,
   "metadata": {
    "pycharm": {
     "is_executing": false
    },
    "scrolled": true,
    "tags": [
     "solution"
    ]
   },
   "outputs": [],
   "source": [
    "# TODO: Implement your solution."
   ]
  },
  {
   "cell_type": "code",
   "execution_count": null,
   "metadata": {
    "pycharm": {
     "is_executing": false
    },
    "scrolled": true,
    "tags": [
     "solution"
    ]
   },
   "outputs": [],
   "source": [
    "# TODO: Implement your solution."
   ]
  },
  {
   "cell_type": "markdown",
   "metadata": {},
   "source": [
    "### 3. Proveďte předchozí analýzu pro dva různé texty a porovnejte výsledky následujícím způsobem:\n",
    "\n",
    "- zjistěte, která slova se vyskytují v obou textech\n",
    "- vytvořte množinu všech slov, která je možno v uvedených textech najít\n",
    "- najděte slova, která obsahuje pouze první text a která obsahuje pouze druhý text\n",
    "- vytvořte množinu slov, která oba texty nemají společná\n",
    "\n",
    "**Hint:** průnik, sjednocení, rozdíl a rozdíl, symetrický rozdíl"
   ]
  },
  {
   "cell_type": "code",
   "execution_count": null,
   "metadata": {
    "pycharm": {
     "is_executing": false
    },
    "scrolled": true,
    "tags": [
     "solution"
    ]
   },
   "outputs": [],
   "source": [
    "# TODO: Implement your solution."
   ]
  },
  {
   "cell_type": "code",
   "execution_count": null,
   "metadata": {
    "pycharm": {
     "is_executing": false
    },
    "scrolled": true,
    "tags": [
     "solution"
    ]
   },
   "outputs": [],
   "source": [
    "# TODO: Implement your solution."
   ]
  },
  {
   "cell_type": "code",
   "execution_count": null,
   "metadata": {
    "pycharm": {
     "is_executing": false
    },
    "scrolled": true,
    "tags": [
     "solution"
    ]
   },
   "outputs": [],
   "source": [
    "# TODO: Implement your solution."
   ]
  },
  {
   "cell_type": "code",
   "execution_count": null,
   "metadata": {
    "pycharm": {
     "is_executing": false
    },
    "scrolled": true,
    "tags": [
     "solution"
    ]
   },
   "outputs": [],
   "source": [
    "# TODO: Implement your solution."
   ]
  },
  {
   "cell_type": "markdown",
   "metadata": {},
   "source": [
    "### 4. Ještě jednou zanalyzujte text na výskyt slov, tentokrát se ale ptejte po tom, jak různě dlouhá slova se v textu vyskytují."
   ]
  },
  {
   "cell_type": "code",
   "execution_count": null,
   "metadata": {
    "pycharm": {
     "is_executing": false
    },
    "scrolled": false,
    "tags": [
     "solution"
    ]
   },
   "outputs": [],
   "source": [
    "# TODO: Implement your solution."
   ]
  },
  {
   "cell_type": "markdown",
   "metadata": {},
   "source": [
    "### 5. Ze zadané věty vyextrahujte množinu v ní obsažených slov. Prvky množiny budou n-tice, jejichž prvním prvkem budou jednotlivá slova z textu a druhým počet jejich výskytů v textu."
   ]
  },
  {
   "cell_type": "code",
   "execution_count": null,
   "metadata": {
    "pycharm": {
     "is_executing": false
    },
    "scrolled": true
   },
   "outputs": [],
   "source": [
    "sentence = \"\"\"\n",
    "    třistatřiatřicet stříbrných stříkaček stříkalo přes\n",
    "    třistatřiatřicet stříbrných střech\n",
    "    \"\"\"\n"
   ]
  },
  {
   "cell_type": "code",
   "execution_count": null,
   "metadata": {
    "pycharm": {
     "is_executing": false
    },
    "scrolled": false,
    "tags": [
     "solution"
    ]
   },
   "outputs": [],
   "source": [
    "# TODO: Implement your solution."
   ]
  }
 ],
 "metadata": {
  "kernelspec": {
   "display_name": "Python 3",
   "language": "python",
   "name": "python3"
  },
  "language_info": {
   "codemirror_mode": {
    "name": "ipython",
    "version": 3
   },
   "file_extension": ".py",
   "mimetype": "text/x-python",
   "name": "python",
   "nbconvert_exporter": "python",
   "pygments_lexer": "ipython3",
   "version": "3.8.1"
  },
  "pycharm": {
   "stem_cell": {
    "cell_type": "raw",
    "metadata": {
     "collapsed": false
    },
    "source": []
   }
  }
 },
 "nbformat": 4,
 "nbformat_minor": 2
}
