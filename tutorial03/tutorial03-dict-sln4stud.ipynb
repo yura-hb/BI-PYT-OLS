{
 "cells": [
  {
   "cell_type": "markdown",
   "metadata": {},
   "source": [
    "# Slovníky (dict)"
   ]
  },
  {
   "cell_type": "markdown",
   "metadata": {},
   "source": [
    "### 1. Zanalyzujte vstupní textový soubor následujícím způsobem: Vytvořte slovník, jehož klíči budou jednotlivá písmena a hodnotami počet jejich výskytů v textu. Uvedený slovník vypište pomocí pprint.pprint()."
   ]
  },
  {
   "cell_type": "code",
   "execution_count": null,
   "metadata": {
    "tags": [
     "solution"
    ]
   },
   "outputs": [],
   "source": [
    "import pprint\n",
    "\n",
    "text = ''\n",
    "with open('leacock-abc.txt', mode='r', encoding='utf-8') as f:\n",
    "    text = f.read()\n",
    "\n",
    "statistika = {}\n",
    "for znak in text:\n",
    "    # přeskoč nepísmenné znaky\n",
    "    if not znak.isalpha():\n",
    "        continue\n",
    "    # písmena zahrň do slovníku\n",
    "    if znak not in statistika:\n",
    "        statistika[znak] = 1\n",
    "    else:\n",
    "        statistika[znak] += 1\n",
    "\n",
    "pprint.pprint(statistika)"
   ]
  },
  {
   "cell_type": "markdown",
   "metadata": {},
   "source": [
    "### 2.  Rozšiřte předchozí program tak, že hodnotou bude objekt o dvou prvcích – prvním bude počet výskytů daného písmene v textu, druhým jeho relativní četnost v % (vzhledem k počtu všech písmen v textu)."
   ]
  },
  {
   "cell_type": "code",
   "execution_count": null,
   "metadata": {
    "tags": [
     "solution"
    ]
   },
   "outputs": [],
   "source": [
    "text = ''\n",
    "with open('leacock-abc.txt', mode='r', encoding='utf-8') as f:\n",
    "    text = f.read()\n",
    "\n",
    "statistika = {}\n",
    "pismen = 0\n",
    "for znak in text:\n",
    "    if not znak.isalpha():\n",
    "        continue\n",
    "    if znak not in statistika:\n",
    "        statistika[znak] = 1\n",
    "    else:\n",
    "        statistika[znak] += 1\n",
    "    pismen += 1\n",
    "\n",
    "for klic in statistika:\n",
    "    tmp = statistika[klic]\n",
    "    statistika[klic] = tmp, (tmp / pismen) * 100\n",
    "\n",
    "statistika"
   ]
  },
  {
   "cell_type": "markdown",
   "metadata": {},
   "source": [
    "### 3. Upravte předchozí program tak, aby nerozlišoval mezi malými a velkými písmeny."
   ]
  },
  {
   "cell_type": "code",
   "execution_count": null,
   "metadata": {
    "tags": [
     "solution"
    ]
   },
   "outputs": [],
   "source": [
    "text = ''\n",
    "with open('leacock-abc.txt', mode='r', encoding='utf-8') as f:\n",
    "    text = f.read().lower()\n",
    "\n",
    "statistika = {}\n",
    "pismen = 0\n",
    "for znak in text:\n",
    "    if not znak.isalpha():\n",
    "        continue\n",
    "    if znak not in statistika:\n",
    "        statistika[znak] = 1\n",
    "    else:\n",
    "        statistika[znak] += 1\n",
    "    pismen += 1\n",
    "\n",
    "for klic in statistika:\n",
    "    tmp = statistika[klic]\n",
    "    statistika[klic] = tmp, (tmp / pismen) * 100\n",
    "\n",
    "statistika"
   ]
  },
  {
   "cell_type": "markdown",
   "metadata": {},
   "source": [
    "### 4. Obměňte první program tak, aby ukládal počet výskytů nikoli písmen, ale slov.\n",
    "\n",
    "**Hint:** Dejte si pozor na to, že např. ahoj a ahoj! by mělo být to samé slovo. Zřejmě se to tedy bude chtít nějak zbavit interpunkce a dalších věcí. S výhodou můžete použít konstantu string.punctuation ."
   ]
  },
  {
   "cell_type": "code",
   "execution_count": null,
   "metadata": {
    "scrolled": true,
    "tags": [
     "solution"
    ]
   },
   "outputs": [],
   "source": [
    "import string\n",
    "\n",
    "text = ''\n",
    "with open('leacock-abc.txt', mode='r', encoding='utf-8') as f:\n",
    "    text = f.read().split()\n",
    "text = [slovo.strip(string.punctuation) for slovo in text]\n",
    "\n",
    "statistika = {}\n",
    "for slovo in text:\n",
    "    if slovo not in statistika:\n",
    "        statistika[slovo] = 1\n",
    "    else:\n",
    "        statistika[slovo] += 1\n",
    "\n",
    "statistika"
   ]
  },
  {
   "cell_type": "code",
   "execution_count": null,
   "metadata": {
    "scrolled": true,
    "tags": [
     "solution"
    ]
   },
   "outputs": [],
   "source": [
    "# pro zajímavost seřazeno podle počtu výskytů\n",
    "\n",
    "sorted(statistika, key=lambda x: statistika[x], reverse=True)"
   ]
  },
  {
   "cell_type": "markdown",
   "metadata": {},
   "source": [
    "### 5. Rozšiřte předchozí program tak, že hodnotou bude n-tice o dvou prvcích – prvním bude počet výskytů daného slova v textu, druhým jeho relativní četnost v % (vzhledem k počtu všech slov v textu)."
   ]
  },
  {
   "cell_type": "code",
   "execution_count": null,
   "metadata": {
    "scrolled": true,
    "tags": [
     "solution"
    ]
   },
   "outputs": [],
   "source": [
    "import string\n",
    "\n",
    "text = ''\n",
    "with open('leacock-abc.txt', mode='r', encoding='utf-8') as f:\n",
    "    text = f.read().split()\n",
    "text = [ slovo.strip(string.punctuation) for slovo in text ]\n",
    "\n",
    "statistika = {}\n",
    "for slovo in text:\n",
    "    if slovo not in statistika:\n",
    "        statistika[slovo] = 1\n",
    "    else:\n",
    "        statistika[slovo] += 1\n",
    "\n",
    "slov = len(text)\n",
    "for klic in statistika:\n",
    "    tmp = statistika[klic]\n",
    "    statistika[klic] = tmp, (tmp / slov) * 100\n",
    "\n",
    "statistika"
   ]
  },
  {
   "cell_type": "markdown",
   "metadata": {},
   "source": [
    "### 6.  Napište funkci, která spojí dohromady dva slovníky.\n",
    "\n",
    "**Ukázka:** `{\"a\": 1, \"b\": 2, \"c\": 3}, {\"d\": 7, \"e\": 8} => {\"a\": 1, \"b\": 2, \"c\": 3, \"d\": 7, \"e\": 8}`"
   ]
  },
  {
   "cell_type": "code",
   "execution_count": null,
   "metadata": {},
   "outputs": [],
   "source": [
    "a_to_c = {\"a\": 1, \"b\": 2, \"c\": 3}\n",
    "d_to_e = {\"d\": 7, \"e\": 8}"
   ]
  },
  {
   "cell_type": "code",
   "execution_count": null,
   "metadata": {
    "tags": [
     "solution"
    ]
   },
   "outputs": [],
   "source": [
    "def concat_dicts(d1, d2):\n",
    "    d = {}\n",
    "    for k, v in d1.items():\n",
    "        d[k] = v\n",
    "    for k, v in d2.items():\n",
    "        d[k] = v\n",
    "    return d\n",
    "\n",
    "concat_dicts(a_to_c, d_to_e)"
   ]
  },
  {
   "cell_type": "code",
   "execution_count": null,
   "metadata": {
    "tags": [
     "solution"
    ]
   },
   "outputs": [],
   "source": [
    "def concat_dicts(d1, d2):\n",
    "    d = {}\n",
    "    d.update(d1)\n",
    "    d.update(d2)\n",
    "    return d\n",
    "\n",
    "concat_dicts(a_to_c, d_to_e)"
   ]
  },
  {
   "cell_type": "code",
   "execution_count": null,
   "metadata": {
    "tags": [
     "solution"
    ]
   },
   "outputs": [],
   "source": [
    "def concat_dicts(d1, d2):\n",
    "    return dict(d1, **d2)\n",
    "\n",
    "concat_dicts(a_to_c, d_to_e)"
   ]
  },
  {
   "cell_type": "markdown",
   "metadata": {},
   "source": [
    "### 7. Napište funkci, která bude „obracet“ slovník. Bude brát slovník jako jediný argument a vrátí nový slovník, ve kterém budou hodnoty ze vstupního slovníku převedeny na klíče a klíče na hodnoty.\n",
    "\n",
    "**Ukázka:** `{1: 'A', 2: 'B'} => {'A': 1, 'B': 2}`"
   ]
  },
  {
   "cell_type": "code",
   "execution_count": null,
   "metadata": {},
   "outputs": [],
   "source": [
    "to_revert = {1: 'A', 2: 'B'}"
   ]
  },
  {
   "cell_type": "code",
   "execution_count": null,
   "metadata": {
    "tags": [
     "solution"
    ]
   },
   "outputs": [],
   "source": [
    "def invert_dict(dictionary):\n",
    "    ret = {}\n",
    "    for k, v in dictionary.items():\n",
    "        ret[v] = k\n",
    "    return ret\n",
    "\n",
    "invert_dict(to_revert)"
   ]
  },
  {
   "cell_type": "code",
   "execution_count": null,
   "metadata": {
    "tags": [
     "solution"
    ]
   },
   "outputs": [],
   "source": [
    "def invert_dict(dictionary):\n",
    "    return {value: key for key, value in dictionary.items()}\n",
    "\n",
    "invert_dict(to_revert)"
   ]
  },
  {
   "cell_type": "markdown",
   "metadata": {},
   "source": [
    "### 8. Upravte předchozí program tak, aby bral v potaz skutečnost, že hodnoty nemusí být unikátní. Pro každou hodnotu tedy bude vytvářet seznam původních klíčů.\n",
    "\n",
    "**Ukázka:** `{1: 'A', 2: 'B', 3: 'B', 4: 'A', 5: 'C'} => {'A': [1,4], 'B': [2,3], 'C': [5]}`"
   ]
  },
  {
   "cell_type": "code",
   "execution_count": null,
   "metadata": {},
   "outputs": [],
   "source": [
    "to_revert_with_duplicates = {1: 'A', 2: 'B', 3: 'B', 4: 'A', 5: 'C'}"
   ]
  },
  {
   "cell_type": "code",
   "execution_count": null,
   "metadata": {
    "tags": [
     "solution"
    ]
   },
   "outputs": [],
   "source": [
    "def invert_dict_multi(dictionary):\n",
    "    \"\"\"Handles multiple different keys for one value\"\"\"\n",
    "\n",
    "    ret = {}\n",
    "    for k, v in dictionary.items():\n",
    "        if v in ret:\n",
    "            ret[v].append(k)\n",
    "        else:\n",
    "            ret[v] = [k]\n",
    "    return ret\n",
    "\n",
    "invert_dict_multi(to_revert_with_duplicates)"
   ]
  }
 ],
 "metadata": {
  "celltoolbar": "Tags",
  "kernelspec": {
   "display_name": "Python 3",
   "language": "python",
   "name": "python3"
  },
  "language_info": {
   "codemirror_mode": {
    "name": "ipython",
    "version": 3
   },
   "file_extension": ".py",
   "mimetype": "text/x-python",
   "name": "python",
   "nbconvert_exporter": "python",
   "pygments_lexer": "ipython3",
   "version": "3.6.9"
  }
 },
 "nbformat": 4,
 "nbformat_minor": 2
}
